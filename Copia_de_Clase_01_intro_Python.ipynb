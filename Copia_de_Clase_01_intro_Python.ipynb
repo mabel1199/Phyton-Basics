{
  "cells": [
    {
      "cell_type": "markdown",
      "metadata": {
        "id": "view-in-github",
        "colab_type": "text"
      },
      "source": [
        "<a href=\"https://colab.research.google.com/github/mabel1199/tarea1lab/blob/main/Copia_de_Clase_01_intro_Python.ipynb\" target=\"_parent\"><img src=\"https://colab.research.google.com/assets/colab-badge.svg\" alt=\"Open In Colab\"/></a>"
      ]
    },
    {
      "cell_type": "markdown",
      "metadata": {
        "id": "pyjkS9-gpFmy"
      },
      "source": [
        "# Python basics\n",
        "\n",
        "En esta clase veremos los fundamentos y elementos básicos de python.\n",
        "Estos son comunes y están presentes en cualquier tipo de programa de Python, no son específicos de programación científica y los encontraremos también en aplicaciones web, móviles, scripting y desarrollo de software tradicional.\n",
        "\n",
        "Quienes ya saben Python o algún otro lenguaje programación encontrarán esto como muy básico o elemental, pero es importante que lo veamos para los compañeros que tienen poca experiencia o bien se están iniciando en la programación.\n",
        "\n",
        "**Detalle importante** : este texto esta escrito en \"Markdown\" que es el lenguaje que utilizan los notebooks para dar formato (entre otras cosas) al texto  que no es parte del código de programación.\n",
        "\n",
        "Es importante conocer ls sintaxis de Markdown para documentar muchos productos de bioinformática por lo que es aconsejable que investiguemos y experimentemos durante nuestra formación, referencia útil: https://github.com/adam-p/markdown-here/wiki/Markdown-Cheatsheet.\n",
        "\n",
        "### Esto es una celda tipo \"Markdown\"\n",
        "Podemos ver en la barra de menú que al hacer click en esta celda se activa el modo \"Markdown\" de esta forma indicamos que esta celda no contiene código ejecutable y que el contenido escrito en ella esta en formato \"Markdown\".\n",
        "\n",
        "#### Recordar\n",
        "* Podemos dar doble click a una celda  tipo \"Markdown\" para ver su contenido puro en Markdown o bien editar y agregar contenido\n",
        "* Tanto celdas tipo \"Markdown\" como celdas tipo \"Code\" pueden ser \"ejecutadas\" con shift+enter\n",
        "    * En celdas tipo \"Markdown\" esto ocasiona que se \"renderize\" el markdown (aplicar el formato especificado y se dibuje en pantalla el contenido)\n",
        "    * En celdas tipo \"Code\" esto ocasiona que se ejecute el código definido en la celda y si el código tiene salidas como impresiones a pantalla, estas serán desplegadas en el notebook.\n",
        "    * No olvides guardar cada cierto tiempo tu \"Notebook\"\n",
        "* Podemos agregar mas celdas al notebook a través de la cruz \"+\" del lado izquierdo del menú.\n",
        "* Podemos también cortar, copiar y pegar celdas en el menú.\n",
        "* Si por error borras una celda, se puede recuperar en: Edit -> Undo Delete Cells\n",
        "* Todas las acciones que estaremos haciendo a través de la barra de menú tienen tambien shortcuts del teclado.\n",
        "    * Por ejemplo el indicar que una celda es del tipo \"Markdown\" puede hacerse con `Esc`+`m`+`enter`\n",
        "      "
      ]
    },
    {
      "cell_type": "markdown",
      "metadata": {
        "id": "iO2R2ixeJPLV"
      },
      "source": [
        "### Clase y Objeto"
      ]
    },
    {
      "cell_type": "code",
      "execution_count": null,
      "metadata": {
        "id": "sL6AJCDEJPLV"
      },
      "outputs": [],
      "source": [
        "class Estudiante:\n",
        "    def __init__(self, nombre, edad):\n",
        "        self.nombre = nombre\n",
        "        self.edad = edad\n",
        "\n",
        "    def saludar(self):\n",
        "        print(f\"Hola, soy {self.nombre} y tengo {self.edad} años.\")\n"
      ]
    },
    {
      "cell_type": "code",
      "execution_count": null,
      "metadata": {
        "id": "XvSNRubHJPLW"
      },
      "outputs": [],
      "source": [
        "estudiante1 = Estudiante(nombre=\"Erick Diaz\", edad=33)"
      ]
    },
    {
      "cell_type": "code",
      "execution_count": null,
      "metadata": {
        "id": "BX8qTdqSJPLX",
        "outputId": "cd91e4f9-692c-4a59-f69b-5d217c007e01"
      },
      "outputs": [
        {
          "name": "stdout",
          "output_type": "stream",
          "text": [
            "Hola, soy Erick Diaz y tengo 33 años.\n"
          ]
        }
      ],
      "source": [
        "estudiante1.saludar()"
      ]
    },
    {
      "cell_type": "code",
      "execution_count": null,
      "metadata": {
        "id": "nrvQoNGNJPLX",
        "outputId": "5a18221f-b694-4d15-8671-6bdcb5bc0c62"
      },
      "outputs": [
        {
          "data": {
            "text/plain": [
              "str"
            ]
          },
          "execution_count": 14,
          "metadata": {},
          "output_type": "execute_result"
        }
      ],
      "source": [
        "type('campo de texto en python')"
      ]
    },
    {
      "cell_type": "markdown",
      "metadata": {
        "id": "kKS0OLaoJPLY"
      },
      "source": [
        "## Python Zen\n",
        "\n",
        "El \"Zen de Python\" es un conjunto de principios y filosofías que guían el diseño de Python. Estos principios fueron escritos por Tim Peters"
      ]
    },
    {
      "cell_type": "code",
      "execution_count": null,
      "metadata": {
        "id": "0AdfYHIVJPLY",
        "outputId": "e88518f2-30e2-4f4e-b642-ebd775f4569d"
      },
      "outputs": [
        {
          "name": "stdout",
          "output_type": "stream",
          "text": [
            "The Zen of Python, by Tim Peters\n",
            "\n",
            "Beautiful is better than ugly.\n",
            "Explicit is better than implicit.\n",
            "Simple is better than complex.\n",
            "Complex is better than complicated.\n",
            "Flat is better than nested.\n",
            "Sparse is better than dense.\n",
            "Readability counts.\n",
            "Special cases aren't special enough to break the rules.\n",
            "Although practicality beats purity.\n",
            "Errors should never pass silently.\n",
            "Unless explicitly silenced.\n",
            "In the face of ambiguity, refuse the temptation to guess.\n",
            "There should be one-- and preferably only one --obvious way to do it.\n",
            "Although that way may not be obvious at first unless you're Dutch.\n",
            "Now is better than never.\n",
            "Although never is often better than *right* now.\n",
            "If the implementation is hard to explain, it's a bad idea.\n",
            "If the implementation is easy to explain, it may be a good idea.\n",
            "Namespaces are one honking great idea -- let's do more of those!\n"
          ]
        }
      ],
      "source": [
        "import this"
      ]
    },
    {
      "cell_type": "markdown",
      "metadata": {
        "id": "Vm23Q8j9pFnL",
        "tags": []
      },
      "source": [
        "## Hola Mundo en Markdown\n",
        "**Ejercicio**: Escribir tu nombre y carnet en una nueva celda con el carnet en negrita"
      ]
    },
    {
      "cell_type": "markdown",
      "metadata": {
        "id": "-DaW0rn4JPLY"
      },
      "source": [
        "Erick Diaz **1232323123**"
      ]
    },
    {
      "cell_type": "markdown",
      "metadata": {
        "id": "b5dvhhYwpFnR"
      },
      "source": [
        "### Programación interactiva e interpretada\n",
        "Estamos viendo en este caso algo que mencionamos en las primeras clases, Python es un lenguaje interpretado y que nos permite realizar programación interactiva:\n",
        "* Podemos ejecutar pequeñas porciones de código \"a demanda\" sin necesidad de compilar el código completo\n",
        "* Podemos ejecutar sentencias individuales o grupos de sentencias, evaluar el resultado inmediatamente y ejecutar nuevas sentencias en respuesta(con lenguajes compilados necesitamos compilar antes de ejecutar las nuevas sentencias)"
      ]
    },
    {
      "cell_type": "markdown",
      "metadata": {
        "id": "Sqo6PzYxpFnR"
      },
      "source": [
        "### Autocompletado de código\n",
        "Para hacer la programación más ágil y rápida, jupyter provee autocompletado de código a través de usar \"tab\".\n",
        "* Ahora que ya conocemos la sentencia \"print\" intenta escribir \"pr\" en una celda tipo código y luego presiona \"tab\", Jupyter mostrara las opciones que coinciden\n",
        "* Si en lugar de  \"pr\" escribes \"pri\" las opciones se reducen y \"Jupyter\" autocompleta a la única opción disponible."
      ]
    },
    {
      "cell_type": "code",
      "execution_count": null,
      "metadata": {
        "id": "8UNsMMa0JPLZ",
        "outputId": "b9f89eba-4c03-429b-ec48-6a223f244194"
      },
      "outputs": [
        {
          "name": "stdout",
          "output_type": "stream",
          "text": [
            "1\n"
          ]
        }
      ],
      "source": [
        "print(1)"
      ]
    },
    {
      "cell_type": "markdown",
      "metadata": {
        "tags": [],
        "id": "iWW2R9LOJPLZ"
      },
      "source": [
        "## Identación"
      ]
    },
    {
      "cell_type": "code",
      "execution_count": null,
      "metadata": {
        "id": "2kUcHmCAJPLZ",
        "outputId": "7c336d58-09a1-4840-f0b0-595fb806c15f"
      },
      "outputs": [
        {
          "name": "stdout",
          "output_type": "stream",
          "text": [
            "1\n",
            "2\n",
            "2\n",
            "3\n",
            "3\n",
            "4\n",
            "4\n",
            "5\n",
            "5\n",
            "6\n",
            "fin\n"
          ]
        }
      ],
      "source": [
        "# Ejemplo de identacion\n",
        "for i in [1, 2, 3, 4, 5]: # primera linea del bloque \"for i ..\"\n",
        "    print(i)\n",
        "    print(i+1)\n",
        "print(\"fin\")"
      ]
    },
    {
      "cell_type": "markdown",
      "metadata": {
        "id": "SnWxoyeIpFnS"
      },
      "source": [
        "## Literales, valores, objetos, identificadores, variables y tipos primitivos\n",
        "\n",
        "Python al igual que muchos otros lenguajes dispone de variedad de gran variedad de tipos de \"objetos\" que podemos utilizar para representar datos e información en nuestros programas, algunos sencillos y otros mas complejos.\n",
        "\n",
        "Nuevamente esta sección es programación general en Python y la podemos utilizar en cualquier tipo de programa, no solo numéricos y o científicos.\n",
        "\n",
        "Dependiendo de la fuente que consultemos, pueden llamar de distinta forma a los elementos que acá veremos, pero lo importante es que conozcamos que son, para que son y cuando usarlos, el nombre es secundario y conforme los usemos se nos harán intuitivos.\n",
        "\n",
        "Empezaremos con lo mas sencillo, valores/literales y \"objetos\" sencillos o tipos primitivos, luego daremos paso a variables/identificadores para finalmente combinar todo en \"expresiones\" y posteriormente \"colecciones\" de objetos (a veces llamadas \"containers\" en Python o estructuras de datos en otros lenguajes)\n",
        "\n",
        "### Detalle importante: todo objeto/valor tiene un tipo que indica su naturaleza y sus posibles usos\n",
        "\n",
        "Para quienes vienen de ciencias de la computación y conocen el paradigma \"OOP\", en Python **todo es un objeto**, para quienes vienen de otros ámbitos este detalle no es importante por ahora (detallaremos mas adelante).\n",
        "\n",
        "### Valores/Literales u objetos de tipo primitivo\n",
        "\n",
        "Todo programa necesita representar datos o información para realizar operaciones en estos, Python al igual que muchos lenguajes maneja \"tipos primitivos\" o valores básicos que nos permiten representar información general (además poseemos funciones para convertir a cierto tipo):\n",
        "\n",
        "* Números enteros: int\n",
        "* Números decimales: float\n",
        "* Caracteres y cadenas de caracteres(strings): str\n",
        "* Números complejos : complex\n",
        "* Valores booleanos (True, False): bool\n",
        "\n",
        "También podemos encontrar variaciones de estos, por ejemplo:\n",
        "* Números en notación científica\n",
        "* Números en notación hexadecimal"
      ]
    },
    {
      "cell_type": "markdown",
      "metadata": {
        "id": "AGM37GRSpFne",
        "tags": []
      },
      "source": [
        "## Variables/identificadores\n",
        "\n",
        "Similar al concepto de variables de la mayoría de lenguajes de programación . Nos permite dar un nombre(o identificador) a un objeto o valor de interés en nuestro programa, o bien definir en nuestro programa operaciones sobre un objeto del cual no conocemos su valor al momento de crear el programa ya que puede \"variar\" según información en una base de datos, un archivo u otros elementos(como un web service).\n",
        "\n",
        "* En python el tipo pertenece al objeto no a la variable/identificador\n",
        "    * por lo tanto podemos re-utilizar la variable en objetos de distinto tipo( tener precaucion)\n",
        "* Relacionado al punto anterior, Python es debilmente tipificado(no se necesita declarar tipos explicitamente)\n",
        "* Python es \"case sensitive\" por lo cual tipo_cambio es un identificador distinto a Tipo_cambio\n",
        "* Podemos usar las variables/identificadores en cualquier expresion donde un valor/literal pueda ser usado\n",
        "\n",
        "Un uso comun de las variables es utilizarla para guardar los resultados de operaciones y/o calculos que luego seran utilizados en otro punto del programa.\n",
        "\n",
        "Una **operación muy importante** y frecuente en Python es la operación de asignación en la cual asignamos un valor/objeto o el resultado de una operación a una variable/o identificador, esta operación tiene la sintáxis:\n",
        "\n",
        "```\n",
        "<identificador> = objeto/valor/resultado de operacion\n",
        "```\n",
        "\n",
        "Que significa que el objeto/valor o resultado de cierta operación podra ser accedido o usado en el programa bajo el nombre \"identificador\". Veamos algunos ejemplos:"
      ]
    },
    {
      "cell_type": "markdown",
      "metadata": {
        "id": "LFUL6iVLJPLa"
      },
      "source": [
        "**Ejercicio**: guarda tu nombre en la variable `nombre`"
      ]
    },
    {
      "cell_type": "code",
      "execution_count": null,
      "metadata": {
        "id": "953jwGy-JPLa"
      },
      "outputs": [],
      "source": [
        "nombre = \"Erick\" # Escribe tu nombre en las comillas"
      ]
    },
    {
      "cell_type": "code",
      "execution_count": null,
      "metadata": {
        "id": "cRfP1B4zJPLa",
        "outputId": "cf5e8bb4-80cf-4262-b8c5-ad9a5581ec19"
      },
      "outputs": [
        {
          "data": {
            "text/plain": [
              "str"
            ]
          },
          "execution_count": 11,
          "metadata": {},
          "output_type": "execute_result"
        }
      ],
      "source": [
        "type(nombre)"
      ]
    },
    {
      "cell_type": "code",
      "execution_count": null,
      "metadata": {
        "id": "BTuHoUBKJPLa",
        "outputId": "31de0d0f-16b2-4d5e-d829-de6948ace901"
      },
      "outputs": [
        {
          "name": "stdout",
          "output_type": "stream",
          "text": [
            "Erick\n"
          ]
        }
      ],
      "source": [
        "print(nombre)"
      ]
    },
    {
      "cell_type": "markdown",
      "metadata": {
        "id": "fEM6-OEspFnk"
      },
      "source": [
        "**detalle importante:** Las variables/identificadores pueden ser usadas en cualquier celda del notebook posterior a la  celda en la que fueron creados,por ejemplo puedo imprimir el monto_convertido en la siguiente celda sin necesidad de re-declararla"
      ]
    },
    {
      "cell_type": "code",
      "execution_count": null,
      "metadata": {
        "colab": {
          "base_uri": "https://localhost:8080/"
        },
        "id": "X71nmNlIpFnl",
        "outputId": "60eb4b55-b640-41eb-a4a7-b8f818efe811"
      },
      "outputs": [
        {
          "name": "stdout",
          "output_type": "stream",
          "text": [
            "Erick\n"
          ]
        }
      ],
      "source": [
        "print(nombre)"
      ]
    },
    {
      "cell_type": "markdown",
      "metadata": {
        "id": "6GNYixXOpFnm"
      },
      "source": [
        "**Ejercicio** : que pasa si usamos `Nombre` en print() en lugar de `nombre`? Agrega una celda de codigo e intentalo"
      ]
    },
    {
      "cell_type": "code",
      "execution_count": null,
      "metadata": {
        "id": "EKBqosUKiRaH"
      },
      "outputs": [],
      "source": [
        "nota = 12"
      ]
    },
    {
      "cell_type": "code",
      "execution_count": null,
      "metadata": {
        "id": "nW2LkVIqJPLa",
        "outputId": "913dd6cc-5101-4d6b-d444-d8a7f90a40b2"
      },
      "outputs": [
        {
          "name": "stdout",
          "output_type": "stream",
          "text": [
            "[90, 98, 100]\n"
          ]
        }
      ],
      "source": [
        "notas = [90,98,100]\n",
        "print(notas)"
      ]
    },
    {
      "cell_type": "markdown",
      "metadata": {
        "id": "swMTP0srJPLb"
      },
      "source": [
        "## Tipos de Datos"
      ]
    },
    {
      "cell_type": "markdown",
      "metadata": {
        "id": "Hhr0Q-VNpFnT",
        "tags": []
      },
      "source": [
        "### Números enteros"
      ]
    },
    {
      "cell_type": "code",
      "execution_count": null,
      "metadata": {
        "id": "a3RgCkuCpFnT"
      },
      "outputs": [],
      "source": [
        "iden = 12"
      ]
    },
    {
      "cell_type": "code",
      "execution_count": null,
      "metadata": {
        "colab": {
          "base_uri": "https://localhost:8080/"
        },
        "id": "PcvF-0TVpFnT",
        "outputId": "f310a869-7899-4459-e5c2-72b5b941a082"
      },
      "outputs": [
        {
          "data": {
            "text/plain": [
              "5"
            ]
          },
          "execution_count": 17,
          "metadata": {},
          "output_type": "execute_result"
        }
      ],
      "source": [
        "int(5.12)"
      ]
    },
    {
      "cell_type": "markdown",
      "metadata": {
        "id": "DCQV-ovapFnU"
      },
      "source": [
        "### Números decimales"
      ]
    },
    {
      "cell_type": "code",
      "execution_count": null,
      "metadata": {
        "colab": {
          "base_uri": "https://localhost:8080/"
        },
        "id": "PcWnUdEapFnV",
        "outputId": "d3a3feed-87af-45ce-9cf3-4ddf11392069"
      },
      "outputs": [
        {
          "data": {
            "text/plain": [
              "5.1416"
            ]
          },
          "execution_count": 18,
          "metadata": {},
          "output_type": "execute_result"
        }
      ],
      "source": [
        "3.1416+2"
      ]
    },
    {
      "cell_type": "code",
      "execution_count": null,
      "metadata": {
        "colab": {
          "base_uri": "https://localhost:8080/"
        },
        "id": "asYajIdepFnW",
        "outputId": "a7d04be7-2771-47ce-99cb-a59b1e207d7e"
      },
      "outputs": [
        {
          "data": {
            "text/plain": [
              "3.0"
            ]
          },
          "execution_count": 19,
          "metadata": {},
          "output_type": "execute_result"
        }
      ],
      "source": [
        "float(3)"
      ]
    },
    {
      "cell_type": "code",
      "execution_count": null,
      "metadata": {
        "id": "hRfIvn86JPLb",
        "outputId": "c737a060-7bdc-4816-96b2-553121d90fd0"
      },
      "outputs": [
        {
          "data": {
            "text/plain": [
              "str"
            ]
          },
          "execution_count": 20,
          "metadata": {},
          "output_type": "execute_result"
        }
      ],
      "source": [
        "type(\"3.114\")"
      ]
    },
    {
      "cell_type": "code",
      "execution_count": null,
      "metadata": {
        "colab": {
          "base_uri": "https://localhost:8080/"
        },
        "id": "pd5GdeCgpFnW",
        "outputId": "6ee82222-9b9d-48b3-d02d-6872b8df03f0"
      },
      "outputs": [
        {
          "data": {
            "text/plain": [
              "float"
            ]
          },
          "execution_count": 21,
          "metadata": {},
          "output_type": "execute_result"
        }
      ],
      "source": [
        "type(float(\"3.114\"))"
      ]
    },
    {
      "cell_type": "markdown",
      "metadata": {
        "id": "zOXNFWT0pFnZ"
      },
      "source": [
        "#### Números complejos"
      ]
    },
    {
      "cell_type": "code",
      "execution_count": null,
      "metadata": {
        "colab": {
          "base_uri": "https://localhost:8080/"
        },
        "id": "jt15Rb4PpFnZ",
        "outputId": "9f1a17c3-9508-493d-a9b1-b9ff2b6127e0"
      },
      "outputs": [
        {
          "data": {
            "text/plain": [
              "(-3+4j)"
            ]
          },
          "execution_count": 22,
          "metadata": {},
          "output_type": "execute_result"
        }
      ],
      "source": [
        "(1 + 2j) * (1 + 2j)"
      ]
    },
    {
      "cell_type": "markdown",
      "metadata": {
        "id": "XUp-VO7JpFnZ"
      },
      "source": [
        "#### Booleanos\n",
        "Utilizados comunmente para controlar el flujo de un programa a través de la evaluación de condiciones, estas condiciones pueden cumplirse(True) o no cumplirse(False) y determinamos el flujo de un programa según uno de estos 2 valores.\n",
        "\n",
        "En otros contextos y/o lenguajes tenemos\n",
        "* 1=True\n",
        "* 0=False\n",
        "\n",
        "Por ejemplo, un alumno aprueba si su nota es mayor a 61 , por lo tanto una condición puede ser: verdadera si el alumno tiene mas de 61 o falsa en caso contrario"
      ]
    },
    {
      "cell_type": "code",
      "execution_count": null,
      "metadata": {
        "id": "8A7CkZeQJPLc",
        "outputId": "8dad1f47-bc8d-4709-8498-09510914d394"
      },
      "outputs": [
        {
          "data": {
            "text/plain": [
              "True"
            ]
          },
          "execution_count": 23,
          "metadata": {},
          "output_type": "execute_result"
        }
      ],
      "source": [
        "True"
      ]
    },
    {
      "cell_type": "code",
      "execution_count": null,
      "metadata": {
        "colab": {
          "base_uri": "https://localhost:8080/"
        },
        "id": "3ddPDxKTpFna",
        "outputId": "535d3a8f-190c-444a-a5ec-55d9d0161d85"
      },
      "outputs": [
        {
          "data": {
            "text/plain": [
              "True"
            ]
          },
          "execution_count": 24,
          "metadata": {},
          "output_type": "execute_result"
        }
      ],
      "source": [
        "True"
      ]
    },
    {
      "cell_type": "code",
      "execution_count": null,
      "metadata": {
        "colab": {
          "base_uri": "https://localhost:8080/"
        },
        "id": "EQ54y30ApFna",
        "outputId": "29a6459c-e20f-43f8-dd29-76880b898545"
      },
      "outputs": [
        {
          "data": {
            "text/plain": [
              "False"
            ]
          },
          "execution_count": 25,
          "metadata": {},
          "output_type": "execute_result"
        }
      ],
      "source": [
        "False"
      ]
    },
    {
      "cell_type": "code",
      "execution_count": null,
      "metadata": {
        "colab": {
          "base_uri": "https://localhost:8080/"
        },
        "id": "4MqS3mNmpFna",
        "outputId": "4d09fe69-f52b-4680-fdc5-b22b2e67f02d"
      },
      "outputs": [
        {
          "data": {
            "text/plain": [
              "True"
            ]
          },
          "execution_count": 26,
          "metadata": {},
          "output_type": "execute_result"
        }
      ],
      "source": [
        "bool(1)"
      ]
    },
    {
      "cell_type": "code",
      "execution_count": null,
      "metadata": {
        "colab": {
          "base_uri": "https://localhost:8080/"
        },
        "id": "htTjCeu_pFna",
        "outputId": "e1a2d654-ac99-4557-d58b-d8844d29a484"
      },
      "outputs": [
        {
          "data": {
            "text/plain": [
              "False"
            ]
          },
          "execution_count": 27,
          "metadata": {},
          "output_type": "execute_result"
        }
      ],
      "source": [
        "bool(0)"
      ]
    },
    {
      "cell_type": "code",
      "execution_count": null,
      "metadata": {
        "id": "SzXKbhVoJPLh",
        "outputId": "e20a99cf-3608-4e26-b4c6-9bb0458b3f6f"
      },
      "outputs": [
        {
          "data": {
            "text/plain": [
              "False"
            ]
          },
          "execution_count": 28,
          "metadata": {},
          "output_type": "execute_result"
        }
      ],
      "source": [
        "bool(None)"
      ]
    },
    {
      "cell_type": "code",
      "execution_count": null,
      "metadata": {
        "id": "75P6KNvbJPLh",
        "outputId": "000cf99d-383c-477c-8fd4-306a0faa6836"
      },
      "outputs": [
        {
          "data": {
            "text/plain": [
              "False"
            ]
          },
          "execution_count": 29,
          "metadata": {},
          "output_type": "execute_result"
        }
      ],
      "source": [
        "1 >2"
      ]
    },
    {
      "cell_type": "code",
      "execution_count": null,
      "metadata": {
        "id": "OTH8LdqcJPLh",
        "outputId": "c66a4aca-981a-4233-f247-af1d65652f07"
      },
      "outputs": [
        {
          "data": {
            "text/plain": [
              "False"
            ]
          },
          "execution_count": 30,
          "metadata": {},
          "output_type": "execute_result"
        }
      ],
      "source": [
        "\"actg\" == \"actg1\""
      ]
    },
    {
      "cell_type": "code",
      "execution_count": null,
      "metadata": {
        "id": "9KHSY7NLJPLi",
        "outputId": "fa064704-1036-47b5-e21b-4ef4df15cf7c"
      },
      "outputs": [
        {
          "data": {
            "text/plain": [
              "False"
            ]
          },
          "execution_count": 31,
          "metadata": {},
          "output_type": "execute_result"
        }
      ],
      "source": [
        "not True"
      ]
    },
    {
      "cell_type": "code",
      "execution_count": null,
      "metadata": {
        "id": "6zxEGMh0JPLi",
        "outputId": "60b81d46-4d9e-4825-e92b-fb508bc51270"
      },
      "outputs": [
        {
          "data": {
            "text/plain": [
              "True"
            ]
          },
          "execution_count": 32,
          "metadata": {},
          "output_type": "execute_result"
        }
      ],
      "source": [
        "1 < 2"
      ]
    },
    {
      "cell_type": "code",
      "execution_count": null,
      "metadata": {
        "id": "YUj5aWlZJPLi",
        "outputId": "374495f7-7057-460a-e751-0ab0de316151"
      },
      "outputs": [
        {
          "data": {
            "text/plain": [
              "False"
            ]
          },
          "execution_count": 33,
          "metadata": {},
          "output_type": "execute_result"
        }
      ],
      "source": [
        "3 < 2 or 1 == 0"
      ]
    },
    {
      "cell_type": "code",
      "execution_count": null,
      "metadata": {
        "id": "z46VFiZRJPLi",
        "outputId": "ec4d6390-e23d-4617-b3d2-f63adf2628c8"
      },
      "outputs": [
        {
          "data": {
            "text/plain": [
              "True"
            ]
          },
          "execution_count": 34,
          "metadata": {},
          "output_type": "execute_result"
        }
      ],
      "source": [
        "(not 3 < 2 or 1 == 0)"
      ]
    },
    {
      "cell_type": "code",
      "execution_count": null,
      "metadata": {
        "id": "5VvmTQGvJPLi",
        "outputId": "f2e52220-a650-4a6b-e68e-8fb1210d507d"
      },
      "outputs": [
        {
          "data": {
            "text/plain": [
              "True"
            ]
          },
          "execution_count": 35,
          "metadata": {},
          "output_type": "execute_result"
        }
      ],
      "source": [
        "True and True"
      ]
    },
    {
      "cell_type": "code",
      "execution_count": null,
      "metadata": {
        "id": "SmDmdJQLJPLi",
        "outputId": "1b8b08bb-c22c-4911-f339-0e81b5a80633"
      },
      "outputs": [
        {
          "data": {
            "text/plain": [
              "True"
            ]
          },
          "execution_count": 36,
          "metadata": {},
          "output_type": "execute_result"
        }
      ],
      "source": [
        "1 < 2 and (not 3 < 2 or 1 == 0)"
      ]
    },
    {
      "cell_type": "markdown",
      "metadata": {
        "id": "DI9zN2PQpFnb"
      },
      "source": [
        "#### Notación científica\n",
        "Más que un tipo de objeto o tipo de valor, es una forma de reprsentar uno de los ya mencionados números decimales o reales por lo cual todas las operaciones o usos de un número real estan también disponibles a números específicados con esta notación."
      ]
    },
    {
      "cell_type": "code",
      "execution_count": null,
      "metadata": {
        "colab": {
          "base_uri": "https://localhost:8080/"
        },
        "id": "p5Zf3WIhpFnb",
        "outputId": "97a75a99-f5b3-4dee-933f-967183d32eb4"
      },
      "outputs": [
        {
          "data": {
            "text/plain": [
              "-3.14"
            ]
          },
          "execution_count": 37,
          "metadata": {},
          "output_type": "execute_result"
        }
      ],
      "source": [
        "# Numero real comun\n",
        "-3.14"
      ]
    },
    {
      "cell_type": "code",
      "execution_count": null,
      "metadata": {
        "colab": {
          "base_uri": "https://localhost:8080/"
        },
        "id": "Jp6KM_zJpFnc",
        "outputId": "08ed06d2-e16c-4dc5-c362-0dcebfe5e0eb"
      },
      "outputs": [
        {
          "data": {
            "text/plain": [
              "-3.14"
            ]
          },
          "execution_count": 38,
          "metadata": {},
          "output_type": "execute_result"
        }
      ],
      "source": [
        "-314e-2"
      ]
    },
    {
      "cell_type": "code",
      "execution_count": null,
      "metadata": {
        "colab": {
          "base_uri": "https://localhost:8080/"
        },
        "id": "llSQq33jpFnd",
        "outputId": "6e35a7b5-19f0-425e-900f-9d5a1f52c41f"
      },
      "outputs": [
        {
          "data": {
            "text/plain": [
              "-3.14"
            ]
          },
          "execution_count": 39,
          "metadata": {},
          "output_type": "execute_result"
        }
      ],
      "source": [
        "-314.0e-2"
      ]
    },
    {
      "cell_type": "code",
      "execution_count": null,
      "metadata": {
        "colab": {
          "base_uri": "https://localhost:8080/"
        },
        "id": "MVaE8D8rpFnd",
        "outputId": "13a3802c-a436-4d04-843e-15c6201e4235"
      },
      "outputs": [
        {
          "data": {
            "text/plain": [
              "-3.14"
            ]
          },
          "execution_count": 40,
          "metadata": {},
          "output_type": "execute_result"
        }
      ],
      "source": [
        "-0.00314e3"
      ]
    },
    {
      "cell_type": "markdown",
      "metadata": {
        "id": "tHSMjFL7JPLj"
      },
      "source": [
        "\n",
        "\n",
        "### Strings"
      ]
    },
    {
      "cell_type": "code",
      "execution_count": null,
      "metadata": {
        "colab": {
          "base_uri": "https://localhost:8080/"
        },
        "id": "GbGMnwJipFnM",
        "outputId": "db36f41c-d1dc-469a-ab08-6d0b89f94b9c"
      },
      "outputs": [
        {
          "name": "stdout",
          "output_type": "stream",
          "text": [
            "Hola mundo en Python!\n",
            "Este es mi primer notebook con Python!\n",
            "Esta es una celda tipo 'Code' por lo cual print es código ejecutable\n",
            "Puedo ejecutar el código con shift+enter o con el boton Run del menu\n",
            "este es mi print\n"
          ]
        }
      ],
      "source": [
        "# Esta es una celda tipo \"Code\" y esto es un comentario tradicional de Python de una linea\n",
        "# Al igual que en otros lenguajes, este comentario es ignorado y no tiene efecto en el programa\n",
        "# Los comentarios nos ayudan a agregar anotaciones,recordatorios, explicaciones etc para otros programadores,data scientists o incluso nosotros mismos\n",
        "# Es buena idea comentar nuestro código y no solo el notebook ya que es común exportar el código para ser ejecutado en modo batch en algún servidor\n",
        "# En este caso todo este texto(comentarios) es ignorado y lo unico ejecutado es la sentencia print()\n",
        "# Parecido a otros lenguajes ,print() es usado para obtener un resultado de nuestro programa o desplegar algo\n",
        "# En modo batch print() muestra su salida en el stdout, comunmente la consola y en el notebook se muestra directamente en el mismo notebook\n",
        "# hola esto es un comentario\n",
        "\n",
        "print(\"Hola mundo en Python!\")\n",
        "print(\"Este es mi primer notebook con Python!\")\n",
        "print(\"Esta es una celda tipo 'Code' por lo cual print es código ejecutable\")\n",
        "print(\"Puedo ejecutar el código con shift+enter o con el boton Run del menu\")\n",
        "print(\"este es mi print\")"
      ]
    },
    {
      "cell_type": "code",
      "execution_count": null,
      "metadata": {
        "colab": {
          "base_uri": "https://localhost:8080/"
        },
        "id": "5ww81Rx7wBl7",
        "outputId": "4a9476f1-79f5-420f-9170-fa2af795da76"
      },
      "outputs": [
        {
          "name": "stdout",
          "output_type": "stream",
          "text": [
            "hola mundo\n"
          ]
        }
      ],
      "source": [
        "print(\"hola mundo\")"
      ]
    },
    {
      "cell_type": "code",
      "execution_count": null,
      "metadata": {
        "colab": {
          "base_uri": "https://localhost:8080/",
          "height": 36
        },
        "id": "4lY7ZMDSpFnX",
        "outputId": "5d970cff-b8d7-4d49-a9f5-e0971d9d1c66"
      },
      "outputs": [
        {
          "data": {
            "text/plain": [
              "'cadena de caracteres'"
            ]
          },
          "execution_count": 43,
          "metadata": {},
          "output_type": "execute_result"
        }
      ],
      "source": [
        "\"cadena de caracteres\""
      ]
    },
    {
      "cell_type": "code",
      "execution_count": null,
      "metadata": {
        "colab": {
          "base_uri": "https://localhost:8080/",
          "height": 36
        },
        "id": "MZpI6nyGpFnX",
        "outputId": "17436955-8316-4ff9-94c9-18edee73573b"
      },
      "outputs": [
        {
          "data": {
            "text/plain": [
              "'\"cadena de caracteres\"'"
            ]
          },
          "execution_count": 44,
          "metadata": {},
          "output_type": "execute_result"
        }
      ],
      "source": [
        "'\"cadena de caracteres\"'"
      ]
    },
    {
      "cell_type": "code",
      "execution_count": null,
      "metadata": {
        "colab": {
          "base_uri": "https://localhost:8080/",
          "height": 36
        },
        "id": "xyvz2snafUlQ",
        "outputId": "641a90c1-b147-4376-de31-24b4354893dd"
      },
      "outputs": [
        {
          "data": {
            "text/plain": [
              "\"'cadena de caracteres'\""
            ]
          },
          "execution_count": 45,
          "metadata": {},
          "output_type": "execute_result"
        }
      ],
      "source": [
        "\"'cadena de caracteres'\""
      ]
    },
    {
      "cell_type": "code",
      "execution_count": null,
      "metadata": {
        "id": "Ic913fcrJPLk",
        "outputId": "4048e37a-a37d-4dd2-80aa-31842a729b32"
      },
      "outputs": [
        {
          "data": {
            "text/plain": [
              "'abc1'"
            ]
          },
          "execution_count": 46,
          "metadata": {},
          "output_type": "execute_result"
        }
      ],
      "source": [
        "\"a\"+\"b\"+\"c\" + str(1)"
      ]
    },
    {
      "cell_type": "code",
      "execution_count": null,
      "metadata": {
        "id": "J3RDDOcwJPLk"
      },
      "outputs": [],
      "source": []
    },
    {
      "cell_type": "code",
      "execution_count": null,
      "metadata": {
        "id": "jcpBBTgZJPLk",
        "outputId": "8b6990c1-1af5-409c-d854-ee3487c1ad6b"
      },
      "outputs": [
        {
          "name": "stdout",
          "output_type": "stream",
          "text": [
            "adenina: 10.48%\n"
          ]
        }
      ],
      "source": [
        "porcentaje = 0.1048 * 100\n",
        "resultado = \"adenina: \" + str(porcentaje) + \"%\"\n",
        "a = 10\n",
        "print(resultado)"
      ]
    },
    {
      "cell_type": "code",
      "execution_count": null,
      "metadata": {
        "id": "MbYFGcNMJPLk",
        "outputId": "35deb1b9-6db8-47d0-a3f4-f8b8477e7af9"
      },
      "outputs": [
        {
          "data": {
            "text/plain": [
              "15"
            ]
          },
          "execution_count": 48,
          "metadata": {},
          "output_type": "execute_result"
        }
      ],
      "source": [
        "len(resultado)"
      ]
    },
    {
      "cell_type": "code",
      "execution_count": null,
      "metadata": {
        "id": "vk54O0ajJPLk"
      },
      "outputs": [],
      "source": []
    },
    {
      "cell_type": "markdown",
      "metadata": {
        "id": "joFJMlRLJPLk"
      },
      "source": [
        "**Ejercicio**: probar que retorna la función `len` con un String"
      ]
    },
    {
      "cell_type": "code",
      "execution_count": null,
      "metadata": {
        "colab": {
          "base_uri": "https://localhost:8080/"
        },
        "id": "a2cESF1nbTvQ",
        "outputId": "e77060aa-2920-44fc-8b61-9bddb55084a1"
      },
      "outputs": [
        {
          "data": {
            "text/plain": [
              "int"
            ]
          },
          "execution_count": 49,
          "metadata": {},
          "output_type": "execute_result"
        }
      ],
      "source": [
        "type(len(\"dfasdsfsadf\"))"
      ]
    },
    {
      "cell_type": "code",
      "execution_count": null,
      "metadata": {
        "id": "WBU31Qf1JPLk",
        "outputId": "35b4947a-4290-40ad-942c-da38a53fb7e7"
      },
      "outputs": [
        {
          "data": {
            "text/plain": [
              "'11'"
            ]
          },
          "execution_count": 50,
          "metadata": {},
          "output_type": "execute_result"
        }
      ],
      "source": [
        "str(len(\"dfasdsfsadf\"))"
      ]
    },
    {
      "cell_type": "code",
      "execution_count": null,
      "metadata": {
        "id": "2E2Ix6HNJPLk",
        "outputId": "07761519-2962-40d2-d781-7c5e120fa002"
      },
      "outputs": [
        {
          "data": {
            "text/plain": [
              "46"
            ]
          },
          "execution_count": 51,
          "metadata": {},
          "output_type": "execute_result"
        }
      ],
      "source": [
        "12 + int(\"34\")"
      ]
    },
    {
      "cell_type": "markdown",
      "metadata": {
        "id": "0E6FKtz6JPLk"
      },
      "source": [
        "Cambiando el tipo de datos"
      ]
    },
    {
      "cell_type": "code",
      "execution_count": null,
      "metadata": {
        "colab": {
          "base_uri": "https://localhost:8080/",
          "height": 36
        },
        "id": "3u-72WO0pFnY",
        "outputId": "3add0d4f-fb17-45eb-e590-7f039cd44cc2",
        "tags": []
      },
      "outputs": [
        {
          "data": {
            "text/plain": [
              "'12'"
            ]
          },
          "execution_count": 52,
          "metadata": {},
          "output_type": "execute_result"
        }
      ],
      "source": [
        "str(\"12\")"
      ]
    },
    {
      "cell_type": "code",
      "execution_count": null,
      "metadata": {
        "colab": {
          "base_uri": "https://localhost:8080/",
          "height": 36
        },
        "id": "qQ7X2NOYpFnY",
        "outputId": "17729069-d64d-4a9c-c997-6b9bf3c0f971",
        "tags": []
      },
      "outputs": [
        {
          "data": {
            "text/plain": [
              "'12'"
            ]
          },
          "execution_count": 53,
          "metadata": {},
          "output_type": "execute_result"
        }
      ],
      "source": [
        "str(12)"
      ]
    },
    {
      "cell_type": "markdown",
      "metadata": {
        "id": "hPHRB0qKJPLl"
      },
      "source": [
        "Concatenando Strings"
      ]
    },
    {
      "cell_type": "code",
      "execution_count": null,
      "metadata": {
        "colab": {
          "base_uri": "https://localhost:8080/",
          "height": 36
        },
        "id": "CBCdZEdfccuD",
        "outputId": "66fe1d87-f8f4-416f-d9d5-892f48b1ec2a",
        "tags": []
      },
      "outputs": [
        {
          "data": {
            "text/plain": [
              "'122'"
            ]
          },
          "execution_count": 54,
          "metadata": {},
          "output_type": "execute_result"
        }
      ],
      "source": [
        "\"12\" + \"2\""
      ]
    },
    {
      "cell_type": "code",
      "execution_count": null,
      "metadata": {
        "colab": {
          "base_uri": "https://localhost:8080/"
        },
        "id": "xG7QuLtucgXX",
        "outputId": "f1103f8e-b95f-40f7-81c3-24f0d5f975bc",
        "tags": []
      },
      "outputs": [
        {
          "data": {
            "text/plain": [
              "14"
            ]
          },
          "execution_count": 55,
          "metadata": {},
          "output_type": "execute_result"
        }
      ],
      "source": [
        "12 + 2"
      ]
    },
    {
      "cell_type": "markdown",
      "metadata": {
        "id": "FCLbasOSJPLl"
      },
      "source": [
        "Cambiando de string a entereos"
      ]
    },
    {
      "cell_type": "code",
      "execution_count": null,
      "metadata": {
        "colab": {
          "base_uri": "https://localhost:8080/"
        },
        "id": "ef-HL0rqpFnY",
        "outputId": "0c8bf201-4521-46b6-a8b5-af17e9171d54",
        "tags": []
      },
      "outputs": [
        {
          "data": {
            "text/plain": [
              "14"
            ]
          },
          "execution_count": 56,
          "metadata": {},
          "output_type": "execute_result"
        }
      ],
      "source": [
        "int(\"12\") + 2"
      ]
    },
    {
      "cell_type": "code",
      "execution_count": null,
      "metadata": {
        "colab": {
          "base_uri": "https://localhost:8080/"
        },
        "id": "Bp5cOaSqpFnY",
        "outputId": "a7510279-d9c7-40b5-f375-63b269363871"
      },
      "outputs": [
        {
          "data": {
            "text/plain": [
              "6.2832"
            ]
          },
          "execution_count": 57,
          "metadata": {},
          "output_type": "execute_result"
        }
      ],
      "source": [
        "float(\"3.1416\") * 2"
      ]
    },
    {
      "cell_type": "markdown",
      "metadata": {
        "id": "zePhw4DlpFnR"
      },
      "source": [
        "**Ejercicio:** Escribir una celda de codigo que imprima/despliegue en pantalla tu nombre y carnet"
      ]
    },
    {
      "cell_type": "code",
      "execution_count": null,
      "metadata": {
        "colab": {
          "base_uri": "https://localhost:8080/"
        },
        "id": "N9dv2-Ml19IS",
        "outputId": "146922dd-2471-4548-cba8-337ae413faa9"
      },
      "outputs": [
        {
          "name": "stdout",
          "output_type": "stream",
          "text": [
            "Erick Diaz, carnet: 456465465\n"
          ]
        }
      ],
      "source": [
        "print(\"Erick Diaz, carnet: 456465465\")"
      ]
    },
    {
      "cell_type": "markdown",
      "metadata": {
        "id": "-q7b_udpJPLm"
      },
      "source": [
        "## Funciones"
      ]
    },
    {
      "cell_type": "code",
      "execution_count": null,
      "metadata": {
        "id": "RVhLhDXXpFnP"
      },
      "outputs": [],
      "source": [
        "def first_function(x, z=1):\n",
        "\n",
        "    y = x * 10\n",
        "\n",
        "    return y * z\n"
      ]
    },
    {
      "cell_type": "code",
      "execution_count": null,
      "metadata": {
        "id": "-WiQyqSdJPLm",
        "outputId": "899ddca2-f7d4-4ad2-ce9b-2d74e74df4d9"
      },
      "outputs": [
        {
          "data": {
            "text/plain": [
              "10"
            ]
          },
          "execution_count": 60,
          "metadata": {},
          "output_type": "execute_result"
        }
      ],
      "source": [
        "first_function(1)"
      ]
    },
    {
      "cell_type": "code",
      "execution_count": null,
      "metadata": {
        "colab": {
          "base_uri": "https://localhost:8080/"
        },
        "id": "4X7aVhCT0my8",
        "outputId": "60780266-2a36-4af9-92e4-ff236b59c826"
      },
      "outputs": [
        {
          "name": "stdout",
          "output_type": "stream",
          "text": [
            "20\n",
            "2\n",
            "6\n"
          ]
        }
      ],
      "source": [
        "# esto es un comentario\n",
        "print(first_function(2)) #fsdafsadf\n",
        "print(1 * 2)\n",
        "print(6)"
      ]
    },
    {
      "cell_type": "code",
      "execution_count": null,
      "metadata": {
        "colab": {
          "base_uri": "https://localhost:8080/"
        },
        "id": "BXRXb9mCpFnP",
        "outputId": "80c40b18-f1db-4d0a-8794-e509e7c3f44b"
      },
      "outputs": [
        {
          "data": {
            "text/plain": [
              "20"
            ]
          },
          "execution_count": 62,
          "metadata": {},
          "output_type": "execute_result"
        }
      ],
      "source": [
        "1+1\n",
        "first_function(2)"
      ]
    },
    {
      "cell_type": "code",
      "execution_count": null,
      "metadata": {
        "colab": {
          "base_uri": "https://localhost:8080/"
        },
        "id": "jBNbBfckpFnQ",
        "outputId": "3df1448d-1d9c-4287-9e45-c9d9ce1bb5f3"
      },
      "outputs": [
        {
          "name": "stdout",
          "output_type": "stream",
          "text": [
            "20\n"
          ]
        }
      ],
      "source": [
        "print(first_function(2))"
      ]
    },
    {
      "cell_type": "code",
      "execution_count": null,
      "metadata": {
        "colab": {
          "base_uri": "https://localhost:8080/"
        },
        "id": "uIU3QU1ppFnQ",
        "outputId": "a3f8cad7-260a-4e86-c4ee-4531361ecc01"
      },
      "outputs": [
        {
          "data": {
            "text/plain": [
              "2"
            ]
          },
          "execution_count": 64,
          "metadata": {},
          "output_type": "execute_result"
        }
      ],
      "source": [
        "first_function(2)\n",
        "1 * 2"
      ]
    },
    {
      "cell_type": "code",
      "execution_count": null,
      "metadata": {
        "id": "HHJO4AXh4Kaz"
      },
      "outputs": [],
      "source": [
        "def hola_esta_es_una_funcion_de_python(nombre):\n",
        "    return \"hola \"+nombre\n"
      ]
    },
    {
      "cell_type": "code",
      "execution_count": null,
      "metadata": {
        "colab": {
          "base_uri": "https://localhost:8080/"
        },
        "id": "3fSs2vzFcTjl",
        "outputId": "759a6326-e2ed-40e9-ddc3-4b64b66c94e2"
      },
      "outputs": [
        {
          "name": "stdout",
          "output_type": "stream",
          "text": [
            "a\n",
            "hola Erick\n"
          ]
        }
      ],
      "source": [
        "nombre=\"a\"\n",
        "resultado = hola_esta_es_una_funcion_de_python(\"Erick\")\n",
        "\n",
        "print(nombre)\n",
        "print(resultado)"
      ]
    },
    {
      "cell_type": "code",
      "execution_count": null,
      "metadata": {
        "id": "v39-vX7jJPLn"
      },
      "outputs": [],
      "source": []
    },
    {
      "cell_type": "markdown",
      "metadata": {
        "id": "fhvcH-AmJPLn"
      },
      "source": [
        "#### Escribe una función para obtener la longitud o numero de catacteres de una cadena de texto"
      ]
    },
    {
      "cell_type": "code",
      "execution_count": null,
      "metadata": {
        "id": "Fwl9ouuzJPLn"
      },
      "outputs": [],
      "source": [
        "len(\"Reduccion de datos\")"
      ]
    },
    {
      "cell_type": "code",
      "execution_count": null,
      "metadata": {
        "id": "knl6PGZ5JPLn"
      },
      "outputs": [],
      "source": [
        "def get_length(cadena):\n",
        "    longitud = len(cadena)\n",
        "    print(\"La longitud es de \" + str(longitud) + \" caracteres\")\n",
        "    return longitud"
      ]
    },
    {
      "cell_type": "code",
      "execution_count": null,
      "metadata": {
        "id": "zUeVO8lNJPLn"
      },
      "outputs": [],
      "source": [
        "l = get_length(\"Reduccion de datos\")"
      ]
    },
    {
      "cell_type": "code",
      "execution_count": null,
      "metadata": {
        "id": "ecFluoQlJPLn"
      },
      "outputs": [],
      "source": [
        "l"
      ]
    },
    {
      "cell_type": "code",
      "execution_count": null,
      "metadata": {
        "id": "0MGQ1eVjJPLn"
      },
      "outputs": [],
      "source": [
        "get_length(\"ECFM USAC\")"
      ]
    },
    {
      "cell_type": "code",
      "execution_count": null,
      "metadata": {
        "id": "07oiOVrWJPLn"
      },
      "outputs": [],
      "source": [
        "def calcular_valor(n):\n",
        "    if n > 10:\n",
        "        print(str(n)+\" es mayor a 10\")\n",
        "        return n - 1\n",
        "    else:\n",
        "        print(\"el valor es menor a 10\")\n",
        "        return n"
      ]
    },
    {
      "cell_type": "code",
      "execution_count": null,
      "metadata": {
        "id": "7w9rO191JPLn"
      },
      "outputs": [],
      "source": [
        "valor = calcular_valor(20)\n",
        "print(valor)"
      ]
    },
    {
      "cell_type": "markdown",
      "metadata": {
        "id": "T7tKuQm1pFnn"
      },
      "source": [
        "## Expresiones\n",
        "\n",
        "Ya conocemos los valores/literales, variables e identificadores, que son elementos básicos para definir y representar datos e información en nuestros programas, pero necesitamos realizar operaciones en estos datos ya sean: operaciones numéricas, validaciones y comparaciones, operaciones en cadenas(por ejemplo sub-cadenas) de caracteres.\n",
        "\n",
        "En un lenguaje de programación se llama **expresión** a partes del programa que utilizan una combinación de una o mas: literales, valores, variables u operadores que la computadora opera para producir un resultado(un nuevo valor que puede ser asignado a un nuevo identificador o variable).\n",
        "\n",
        "Cuando escribimos hace un momento la sentencia de código:\n",
        "\n",
        "monto_convertido = tipo_cambio*monto\n",
        "\n",
        "Teníamos un ejemplo de expresión: en este caso la operación de multiplicación * se aplicó a 2 variables y el resultado de esta multiplicación se asigno con el operador  = a una nueva variable monto_convertido.\n",
        "\n",
        "Python y la mayoría de lenguajes tienen diversos operadores (y por lo tanto) tipos de operaciones.\n",
        "\n",
        "Según el tipo del objeto será posible aplicar algunas operaciones en este y otras no (por ejemplo, no podemos sumar 2 cadenas de caracteres)\n",
        "\n",
        "#### Operaciones y operadores aritméticos\n",
        "\n",
        "Tal y como su nombre indica son operadores que nos permiten realizar operaciones aritméticas como suma, resta, multiplicación o división.\n",
        "* suma +\n",
        "* resta -\n",
        "* multiplicación *\n",
        "* división : en Python podemos tener distintos tipos de división según lo que necesitemos\n",
        "    * División común   (obtiene el resultado completo incluyendo divisor y residuo)\n",
        "    * División entera /floor división (obtiene solo la parte entera redondeado al entero menor mas pequeño)\n",
        "    * División modular (obtiene solo el residuo de la división)\n",
        "* Potenciación **\n",
        "\n",
        "Estos operadores pueden aplicarse cualquier valor valido que puede ser una literal, una variable o bien otras expresiones.\n",
        "\n",
        "Adicional a esto, podemos agrupar en paréntesis segmentos de operaciones y así de esta manera lograr mayor legibilidad, y definir explícitamente la precedencia y orden de las operaciones.\n"
      ]
    },
    {
      "cell_type": "code",
      "execution_count": null,
      "metadata": {
        "id": "W9BGa_OppFno"
      },
      "outputs": [],
      "source": [
        "1 + 2"
      ]
    },
    {
      "cell_type": "code",
      "execution_count": null,
      "metadata": {
        "id": "HbIdSGxNpFnq"
      },
      "outputs": [],
      "source": [
        "1 - 1"
      ]
    },
    {
      "cell_type": "code",
      "execution_count": null,
      "metadata": {
        "id": "saYCzB5apFnq"
      },
      "outputs": [],
      "source": [
        "1.0 * 3"
      ]
    },
    {
      "cell_type": "code",
      "execution_count": null,
      "metadata": {
        "id": "8vzT2-skpFnr"
      },
      "outputs": [],
      "source": [
        "1 / 5 # cuidado con python 2"
      ]
    },
    {
      "cell_type": "code",
      "execution_count": null,
      "metadata": {
        "id": "0U1TGhrwpFns"
      },
      "outputs": [],
      "source": [
        "nota1 = 25\n",
        "nota2 = 25\n",
        "nota3 = 50\n",
        "\n",
        "nota1 + nota2 + nota3\n",
        "otravar = nota1 + nota2 + nota3\n",
        "print(otravar)\n",
        "#nota1 + nota2 + nota3"
      ]
    },
    {
      "cell_type": "code",
      "execution_count": null,
      "metadata": {
        "id": "wVkGmHl-pFns"
      },
      "outputs": [],
      "source": [
        "nota1 + nota2 + 50"
      ]
    },
    {
      "cell_type": "code",
      "execution_count": null,
      "metadata": {
        "id": "GYLyFN5WpFnt"
      },
      "outputs": [],
      "source": [
        "(nota1 + nota2 + nota3) * 0.1"
      ]
    },
    {
      "cell_type": "code",
      "execution_count": null,
      "metadata": {
        "id": "gdFdzBDhpFnu"
      },
      "outputs": [],
      "source": [
        "total = (nota1 + nota2 + nota3) * 0.1\n",
        "\n",
        "print(total)"
      ]
    },
    {
      "cell_type": "code",
      "execution_count": null,
      "metadata": {
        "id": "ShyMc22XJPLo"
      },
      "outputs": [],
      "source": [
        "5/2"
      ]
    },
    {
      "cell_type": "code",
      "execution_count": null,
      "metadata": {
        "id": "irySbW-GpFnu"
      },
      "outputs": [],
      "source": [
        "5//2"
      ]
    },
    {
      "cell_type": "code",
      "execution_count": null,
      "metadata": {
        "id": "lQjhoe7oJPLo"
      },
      "outputs": [],
      "source": [
        "int(5/2)"
      ]
    },
    {
      "cell_type": "markdown",
      "metadata": {
        "id": "eLcT2ulJn56-"
      },
      "source": [
        "####  Division modular\n",
        "<img src=\"https://blog.teclado.com/content/images/2019/03/10div3-names.png\">\n"
      ]
    },
    {
      "cell_type": "code",
      "execution_count": null,
      "metadata": {
        "id": "uyrEn6a2JPLo"
      },
      "outputs": [],
      "source": [
        "10%3"
      ]
    },
    {
      "cell_type": "code",
      "execution_count": null,
      "metadata": {
        "id": "A2TrQhpLn4zc"
      },
      "outputs": [],
      "source": [
        "7%3"
      ]
    },
    {
      "cell_type": "code",
      "execution_count": null,
      "metadata": {
        "id": "BZaL0EoXJPLq"
      },
      "outputs": [],
      "source": [
        "pi = 3.1416"
      ]
    },
    {
      "cell_type": "code",
      "execution_count": null,
      "metadata": {
        "id": "18TSaQk1JPLq"
      },
      "outputs": [],
      "source": [
        "round(pi, 3)"
      ]
    },
    {
      "cell_type": "code",
      "execution_count": null,
      "metadata": {
        "id": "44Ix901aC0je"
      },
      "outputs": [],
      "source": [
        "\"El porcentaje es: \" + str(round(52.64654654654, 2))+\"%\""
      ]
    },
    {
      "cell_type": "code",
      "execution_count": null,
      "metadata": {
        "id": "hNV15YSusxXM"
      },
      "outputs": [],
      "source": [
        "25%7"
      ]
    },
    {
      "cell_type": "code",
      "execution_count": null,
      "metadata": {
        "id": "Vz3lc2a4pFnw"
      },
      "outputs": [],
      "source": [
        "5%2"
      ]
    },
    {
      "cell_type": "code",
      "execution_count": null,
      "metadata": {
        "id": "_yKgofrVpFnx"
      },
      "outputs": [],
      "source": [
        "2%2"
      ]
    },
    {
      "cell_type": "code",
      "execution_count": null,
      "metadata": {
        "id": "yCHzF9hfpFnx"
      },
      "outputs": [],
      "source": [
        "6/2"
      ]
    },
    {
      "cell_type": "code",
      "execution_count": null,
      "metadata": {
        "id": "6bXsSzfMpFny"
      },
      "outputs": [],
      "source": [
        "6/3"
      ]
    },
    {
      "cell_type": "code",
      "execution_count": null,
      "metadata": {
        "id": "PXXGz9srpFny"
      },
      "outputs": [],
      "source": [
        "6%2"
      ]
    },
    {
      "cell_type": "code",
      "execution_count": null,
      "metadata": {
        "id": "qF3k8tDjpFnz"
      },
      "outputs": [],
      "source": [
        "6%3"
      ]
    },
    {
      "cell_type": "code",
      "execution_count": null,
      "metadata": {
        "id": "jqVrN3FxpFnz"
      },
      "outputs": [],
      "source": [
        "6%4"
      ]
    },
    {
      "cell_type": "markdown",
      "metadata": {
        "id": "Y3s6opvioPs1"
      },
      "source": [
        "#### Potenciación"
      ]
    },
    {
      "cell_type": "code",
      "execution_count": null,
      "metadata": {
        "id": "3BvQ3Te1pFnz"
      },
      "outputs": [],
      "source": [
        "2**2"
      ]
    },
    {
      "cell_type": "code",
      "execution_count": null,
      "metadata": {
        "id": "mIlBRTRxpFn0"
      },
      "outputs": [],
      "source": [
        "2**3"
      ]
    },
    {
      "cell_type": "code",
      "execution_count": null,
      "metadata": {
        "id": "OVjdXxwrDRia"
      },
      "outputs": [],
      "source": [
        "0.9**1000"
      ]
    },
    {
      "cell_type": "markdown",
      "metadata": {
        "id": "PSyWoS7goTm5"
      },
      "source": [
        "#### Combinando expresiones"
      ]
    },
    {
      "cell_type": "code",
      "execution_count": null,
      "metadata": {
        "id": "baKkJkCipFn0"
      },
      "outputs": [],
      "source": [
        "((1+2)*(3+ 2**3)) + 8"
      ]
    },
    {
      "cell_type": "code",
      "execution_count": null,
      "metadata": {
        "id": "U8rVtzT5pFn1"
      },
      "outputs": [],
      "source": [
        "\"hola\"+str(2)"
      ]
    },
    {
      "cell_type": "markdown",
      "metadata": {
        "id": "1Nk9-1TopFn2"
      },
      "source": [
        "#### Operadores y operaciones relacionales (operadores de comparación)\n",
        "\n",
        "Estas operaciones/operadores son usadas para evaluar la relación entre 2 elementos (literales, variables o resultados de otras operaciones) a través de **evaluar** si cierta **condición** se cumple.\n",
        "\n",
        "Si la condición se cumple el resultado es \"verdadero\" representado en Python como True, si la condición no se cumple el resultado es \"falso\" representado en Python como False.\n",
        "\n",
        "Las operaciones relacionales son usadas comúnmente (en conjunto con operaciones lógicas que veremos) para controlar el flujo de un programa a través de evaluar condiciones y ejecutar ciertas partes del programa selectivamente según el resultado de la evaluación de condiciones.\n",
        "\n",
        "Los operadores relacionales nos ayudan a realizar comparaciones de valores, por ejemplo: si un valor es mayor, menor, igual o diferente de otro.\n",
        "Estos operadores son:\n",
        "\n",
        "* Mayor que >\n",
        "* Menor que <\n",
        "* == Igual a\n",
        "* \">=\" Mayor o Igual a\n",
        "* \"<=\" Menor o Igual a\n",
        "* != Differente a\n"
      ]
    },
    {
      "cell_type": "code",
      "execution_count": null,
      "metadata": {
        "id": "DNQetfoFpFn2"
      },
      "outputs": [],
      "source": [
        "10 > 0"
      ]
    },
    {
      "cell_type": "code",
      "execution_count": null,
      "metadata": {
        "id": "rrv7YI2ipFn3"
      },
      "outputs": [],
      "source": [
        "10 > 10"
      ]
    },
    {
      "cell_type": "code",
      "execution_count": null,
      "metadata": {
        "id": "uMEbGuMbpFn4"
      },
      "outputs": [],
      "source": [
        "10 < 0"
      ]
    },
    {
      "cell_type": "code",
      "execution_count": null,
      "metadata": {
        "id": "cxowqAoApFn4"
      },
      "outputs": [],
      "source": [
        "10 > 0"
      ]
    },
    {
      "cell_type": "code",
      "execution_count": null,
      "metadata": {
        "id": "fdluoB4WpFn4"
      },
      "outputs": [],
      "source": [
        "10 == 0"
      ]
    },
    {
      "cell_type": "code",
      "execution_count": null,
      "metadata": {
        "id": "ZIfeqB5gpFn4"
      },
      "outputs": [],
      "source": [
        "10 == 10"
      ]
    },
    {
      "cell_type": "code",
      "execution_count": null,
      "metadata": {
        "id": "X5fIhuXppFn5"
      },
      "outputs": [],
      "source": [
        "10 != 0"
      ]
    },
    {
      "cell_type": "code",
      "execution_count": null,
      "metadata": {
        "id": "ABaqfi9epFn5"
      },
      "outputs": [],
      "source": [
        "10 == 0"
      ]
    },
    {
      "cell_type": "code",
      "execution_count": null,
      "metadata": {
        "id": "7tumpWAgpFn5"
      },
      "outputs": [],
      "source": [
        "10>=0"
      ]
    },
    {
      "cell_type": "code",
      "execution_count": null,
      "metadata": {
        "id": "euIhh6wMpFn6"
      },
      "outputs": [],
      "source": [
        "10>10"
      ]
    },
    {
      "cell_type": "code",
      "execution_count": null,
      "metadata": {
        "id": "AQvJUGGOpFn6"
      },
      "outputs": [],
      "source": [
        "10 >= 10"
      ]
    },
    {
      "cell_type": "code",
      "execution_count": null,
      "metadata": {
        "id": "0gFwR81NpFn6"
      },
      "outputs": [],
      "source": [
        "10 <= 0"
      ]
    },
    {
      "cell_type": "code",
      "execution_count": null,
      "metadata": {
        "id": "GvGK7jkKpFn7"
      },
      "outputs": [],
      "source": [
        "10<= 10"
      ]
    },
    {
      "cell_type": "code",
      "execution_count": null,
      "metadata": {
        "id": "3JkBMYF2pFn7"
      },
      "outputs": [],
      "source": [
        "resultado = 10 <= 11"
      ]
    },
    {
      "cell_type": "code",
      "execution_count": null,
      "metadata": {
        "id": "iqhqHTk1pFn7"
      },
      "outputs": [],
      "source": [
        "print(resultado)"
      ]
    },
    {
      "cell_type": "markdown",
      "metadata": {
        "id": "H7AV98jXpFn7"
      },
      "source": [
        "#### Tambien podemos usar operadores relacionales con variables ,no solamente valores/literales siempre y cuando la operacion tenga sentido"
      ]
    },
    {
      "cell_type": "code",
      "execution_count": null,
      "metadata": {
        "id": "djs3gSXapFn8"
      },
      "outputs": [],
      "source": [
        "ingresos = 1000.00\n",
        "egresos = 500.00\n",
        "\n",
        "ingresos >= egresos"
      ]
    },
    {
      "cell_type": "code",
      "execution_count": null,
      "metadata": {
        "id": "M22JiMBSpFn8"
      },
      "outputs": [],
      "source": [
        "ingresos == egresos"
      ]
    },
    {
      "cell_type": "code",
      "execution_count": null,
      "metadata": {
        "id": "0lD8x7n8pFn8"
      },
      "outputs": [],
      "source": [
        "ingresos != egresos"
      ]
    },
    {
      "cell_type": "markdown",
      "metadata": {
        "id": "Zn3Uzl-tpFn9"
      },
      "source": [
        "#### Operaciones y operadores lógicos\n",
        "\n",
        "Llamados también operadores booleanos y definidos matemáticamente a través de tablas de verdad en \"algebra booleana\" nos permiten combinar resultados de operaciones relacionales para evaluar condiciones mas complejas.\n",
        "\n",
        "El resultado de un operador lógico es \"True\" si se cumple la condición que denotan o \"False\" si no se cumple.  \n",
        "\n",
        "Los operadores \"Y\" , \"O\" y \"NO\"\n",
        "\n",
        "Ejemplo de operador lógico en una condición :\n",
        "**Si el estudiante aprobó todos sus cursos Y esta solvente en pagos, puede graduarse**\n",
        "\n",
        "En este caso el operador lógico es \"Y\"\n",
        "\n",
        "En Python estos operadores son:\n",
        "* and (la condición se cumple si y solo si si ambas sub-condiciones son verdaderas)\n",
        "* or  (la condición se cumple si al menos una de sus sub-condiciones son verdaderas)\n",
        "* not (la condición se invierte, verdadero se convierte en Falso y Falso se convierte en verdadero)\n"
      ]
    },
    {
      "cell_type": "markdown",
      "metadata": {
        "id": "dHpi0XkzpFn9"
      },
      "source": [
        "##### and"
      ]
    },
    {
      "cell_type": "code",
      "execution_count": null,
      "metadata": {
        "id": "aI9RaCPMpFn9"
      },
      "outputs": [],
      "source": [
        "False and False"
      ]
    },
    {
      "cell_type": "code",
      "execution_count": null,
      "metadata": {
        "id": "sFgIn9CQpFn9"
      },
      "outputs": [],
      "source": [
        "False and True"
      ]
    },
    {
      "cell_type": "code",
      "execution_count": null,
      "metadata": {
        "id": "YsnJAH6UpFn-"
      },
      "outputs": [],
      "source": [
        "True and False"
      ]
    },
    {
      "cell_type": "code",
      "execution_count": null,
      "metadata": {
        "id": "c9kuTw5mpFn-"
      },
      "outputs": [],
      "source": [
        "True and True"
      ]
    },
    {
      "cell_type": "markdown",
      "metadata": {
        "id": "1PUzzhX0pFn_"
      },
      "source": [
        "##### or"
      ]
    },
    {
      "cell_type": "code",
      "execution_count": null,
      "metadata": {
        "id": "tbKV2y61pFn_"
      },
      "outputs": [],
      "source": [
        "(False or False)"
      ]
    },
    {
      "cell_type": "code",
      "execution_count": null,
      "metadata": {
        "id": "zgEYs4mIpFn_"
      },
      "outputs": [],
      "source": [
        "False or True"
      ]
    },
    {
      "cell_type": "code",
      "execution_count": null,
      "metadata": {
        "id": "9CJaSOcMpFoA"
      },
      "outputs": [],
      "source": [
        "True or False"
      ]
    },
    {
      "cell_type": "code",
      "execution_count": null,
      "metadata": {
        "id": "N5q5FlhYpFoA"
      },
      "outputs": [],
      "source": [
        "True and True"
      ]
    },
    {
      "cell_type": "markdown",
      "metadata": {
        "id": "T9_L5mgqpFoA"
      },
      "source": [
        "##### not"
      ]
    },
    {
      "cell_type": "code",
      "execution_count": null,
      "metadata": {
        "id": "oJk5MVg_pFoB"
      },
      "outputs": [],
      "source": [
        "not True\n"
      ]
    },
    {
      "cell_type": "code",
      "execution_count": null,
      "metadata": {
        "id": "XpHNAC4WpFoB"
      },
      "outputs": [],
      "source": [
        "not False"
      ]
    },
    {
      "cell_type": "code",
      "execution_count": null,
      "metadata": {
        "id": "eKKhmw7_JPLu"
      },
      "outputs": [],
      "source": [
        "not 2 > 3"
      ]
    },
    {
      "cell_type": "markdown",
      "metadata": {
        "id": "5Cyf0vmUpFoB"
      },
      "source": [
        "##### Asi como podemos usar parentesis para crear operaciones aritmeticas mas complejas y combinaciones de estas, podemos usar parentesis para agrugar operaciones logicas y asi crear expresiones booleanas mas complejas, ademas de ayudarnos a definir el orden de operaciones"
      ]
    },
    {
      "cell_type": "code",
      "execution_count": null,
      "metadata": {
        "id": "KmFeQNkppFoC"
      },
      "outputs": [],
      "source": [
        "(True or True) and (True or False)"
      ]
    },
    {
      "cell_type": "code",
      "execution_count": null,
      "metadata": {
        "id": "f0qDCYiypFoC"
      },
      "outputs": [],
      "source": [
        "(not True) or (True and True)"
      ]
    },
    {
      "cell_type": "code",
      "execution_count": null,
      "metadata": {
        "id": "ADSB42-6pFoC"
      },
      "outputs": [],
      "source": [
        "((not True) or (True and True)) or (1>0)"
      ]
    },
    {
      "cell_type": "markdown",
      "metadata": {
        "id": "WAtQ6IGOpFoC"
      },
      "source": [
        "##### Del mismo modo que con las expresiones aritméticas, podemos utilizar variables para expresiones relacionales y lógicas\n",
        "\n",
        "Por ejemplo, pensemos en un programa que termina si un alumno es admitido a la universidad basado en 2 condiciones que deben cumplirse:\n",
        "* El alumno es mayor de edad (mayor a 18 años)\n",
        "* Termino el diversificado"
      ]
    },
    {
      "cell_type": "code",
      "execution_count": null,
      "metadata": {
        "id": "4PAyJ9x8pFoD"
      },
      "outputs": [],
      "source": [
        "edad_alumno = 20\n",
        "edad_minima = 18\n",
        "termino_diversificado = True\n",
        "\n",
        "es_alumno_mayor = edad_alumno >= edad_minima\n",
        "\n",
        "admitir_alumno = es_alumno_mayor and termino_diversificado\n",
        "\n",
        "print(\"Alumno admitido:\",admitir_alumno)"
      ]
    },
    {
      "cell_type": "markdown",
      "metadata": {
        "id": "SwqB-iGWpFoD"
      },
      "source": [
        "#### Operadores y operaciones especiales\n",
        "\n",
        "Aunque los operadores y operaciones que vimos son los mas comunes, existen otros tipos de operadores especiales que en algunos casos serán de ayuda o nos servirán a realizar de manera mas sencilla tareas que de otro modo podrían requerir mayor trabajo.\n",
        "\n",
        "Tenemos por ejemplo:\n",
        "\n",
        "##### Operadores de identidad\n",
        "\n",
        "Los operadores igual a ==  o diferente a != nos ayudan a verificar si los VALORES de dos objetos son diferentes entre si, pero en algunos casos necesitamos determinar si 2  variables hacen referencia al mismo objeto en la memoria(o si no es el mismo) para lo cual utilizamos 2 operadores especiales:\n",
        "\n",
        "* is : True si 2 variables hacen referencia a un mismo objeto\n",
        "* is not: True si 2 variables hacen referencia a un objeto diferente\n",
        "\n",
        "El que 2 objetos tengan el mismo valor no significa que sean el mismo objeto en memoria por lo cual en algunos casos aun que 2 variables contengan el mismo valor, el operador \"is\" devuelve falso.\n",
        "\n",
        "Python asigna a cada objeto un numero que lo identifica, podemos obtener este numero usando la función id()"
      ]
    },
    {
      "cell_type": "code",
      "execution_count": null,
      "metadata": {
        "id": "Idfd6FhfpFoD"
      },
      "outputs": [],
      "source": [
        "a = 5\n",
        "b = 5\n",
        "\n",
        "a == 5"
      ]
    },
    {
      "cell_type": "code",
      "execution_count": null,
      "metadata": {
        "id": "ifyxWdGOpFoD"
      },
      "outputs": [],
      "source": [
        "a is b"
      ]
    },
    {
      "cell_type": "code",
      "execution_count": null,
      "metadata": {
        "id": "RyStzjJdpFoE"
      },
      "outputs": [],
      "source": [
        "x1 = 5\n",
        "y1 = 5\n",
        "\n",
        "x2 = 'Hello'\n",
        "y2 = 'Hello'\n",
        "\n",
        "x4 = x1\n",
        "x5 = 6.0\n",
        "y5 = 6.0\n",
        "\n",
        "# Output: False\n",
        "print(x1 is not y1)\n",
        "\n",
        "# Output: True\n",
        "print(x2 is y2)\n",
        "\n",
        "# Output: False\n",
        "print(x3 is y3)\n",
        "\n",
        "# Output: True\n",
        "print(x4 is x1)\n",
        "\n",
        "# Output: False\n",
        "print(x5 is y5)"
      ]
    },
    {
      "cell_type": "code",
      "execution_count": null,
      "metadata": {
        "id": "nxVnUlFEpFoE"
      },
      "outputs": [],
      "source": []
    },
    {
      "cell_type": "code",
      "execution_count": null,
      "metadata": {
        "id": "ayb_b7QqpFoF"
      },
      "outputs": [],
      "source": [
        "type(x1) is int"
      ]
    },
    {
      "cell_type": "code",
      "execution_count": null,
      "metadata": {
        "id": "h_GKN3ZOpFoF"
      },
      "outputs": [],
      "source": [
        "type(x1) is str"
      ]
    },
    {
      "cell_type": "code",
      "execution_count": null,
      "metadata": {
        "id": "c43AF59RpFoG"
      },
      "outputs": [],
      "source": [
        "type(x1) is not str"
      ]
    },
    {
      "cell_type": "markdown",
      "metadata": {
        "id": "1O6B_XDCpFoK"
      },
      "source": [
        "#### Operadores especiales de asignación\n",
        "\n",
        "Uno de los primeros operadores vistos en esta clase fue el operador de asignación:\n",
        "\n",
        "< identificador >=objeto/valor/resultado de operación\n",
        "\n",
        "\n",
        "El cual es usado para asignar a una variable/identificador cierto objeto, valor o resultado de una operación posiblemente mas compleja.\n",
        "\n",
        "Existen otros operadores especiales de asignación que nos ayudan a realizar de manera breve asignaciones que son comunes en programación, estas operaciones tienen como ventaja ser mas eficientes(rápidas) en ejecución.\n",
        "\n",
        "Un escenario muy común en programación es tomar una variable y realizar una operación aritmética con ella, para asignar el resultado a esta misma variable.\n",
        "\n",
        "**Por ejemplo**"
      ]
    },
    {
      "cell_type": "code",
      "execution_count": null,
      "metadata": {
        "id": "umURrEFFpFoK"
      },
      "outputs": [],
      "source": [
        "a = 1\n",
        "\n",
        "a = a + 1 # resultado es 2\n",
        "a = a * 2 # resultado es 4\n",
        "\n",
        "print(a)"
      ]
    },
    {
      "cell_type": "markdown",
      "metadata": {
        "id": "dzKmTGkUpFoK"
      },
      "source": [
        "Los operadores especiales de asignación nos permiten realizar de manera abreviada (y mas eficiente) este tipo de operaciones, el codigo anterior seria equivalente a :"
      ]
    },
    {
      "cell_type": "code",
      "execution_count": null,
      "metadata": {
        "id": "Rwvj43pBpFoK"
      },
      "outputs": [],
      "source": [
        "a = 1\n",
        "\n",
        "a += 1\n",
        "a *= 2\n",
        "\n",
        "print(a)"
      ]
    },
    {
      "cell_type": "code",
      "execution_count": null,
      "metadata": {
        "id": "hRwajVSh0bF9"
      },
      "outputs": [],
      "source": [
        "a=1\n",
        "a = +2\n",
        "print()\n",
        "print(a)"
      ]
    },
    {
      "cell_type": "code",
      "execution_count": null,
      "metadata": {
        "id": "H87Cz6YM1UIM"
      },
      "outputs": [],
      "source": [
        "a=1\n",
        "a+=2 # 3\n",
        "a+=2 # 5\n",
        "a+=2 # 7\n",
        "a+=2 # 9\n",
        "print(a)\n"
      ]
    },
    {
      "cell_type": "markdown",
      "metadata": {
        "id": "zftM1kgjpFoL"
      },
      "source": [
        "Existe un operador de asignación especial para cada uno de los operadores aritméticos que vimos anteriormente:\n",
        "    \n",
        "* +=\n",
        "* -=\n",
        "* *=\n",
        "* /=\n",
        "* %=\n",
        "* //=\n",
        "* **="
      ]
    },
    {
      "cell_type": "markdown",
      "metadata": {
        "id": "_fVesNZJpFoP"
      },
      "source": [
        "# Objetos Contenedores\n",
        "## Listas (list)\n",
        "\n",
        "<img src=\"https://files.realpython.com/media/t.eb0b38e642c5.png\">\n",
        "\n",
        "Una lista es una **secuencia ordenada** de objetos , los cuales están separados por comas y encerrados en corchetes, es decir que la lista tendrá la forma:\n",
        "\n",
        "[objeto1, objeto2, objeto3, objeto4,...,objetoN]\n",
        "\n",
        "\n",
        "La lista al ser un objeto, puede ser asignado a una variable(o identificador) tal como lo hemos hecho con los tipos básicos de la siguiente forma:\n",
        "\n",
        "< variable > = [< lista >]\n",
        "\n",
        "Por ejemplo:\n",
        "\n",
        "paises = [\"GT\",\"SV\",\"HN\",\"NI\",\"CR\"]\n",
        "\n",
        "A diferencia de otros lenguajes de programación(y los arrays de estos) en Python las listas no  requieren que todos los objetos contenidos sean del mismo tipo y puede almacenar cualquier combinación de tipos de objetos(incluidas otras listas)."
      ]
    },
    {
      "cell_type": "code",
      "execution_count": null,
      "metadata": {
        "id": "23fLyakdJPLy"
      },
      "outputs": [],
      "source": [
        "lista = [\"a\", \"b\", \"c\"]\n",
        "\n",
        "len(lista)"
      ]
    },
    {
      "cell_type": "code",
      "execution_count": null,
      "metadata": {
        "id": "3VV_mDXUJPLz"
      },
      "outputs": [],
      "source": [
        "lista = [1, 4.0, 'a']\n",
        "\n",
        "print(lista[0])"
      ]
    },
    {
      "cell_type": "code",
      "execution_count": null,
      "metadata": {
        "id": "5OMlJNPCJPLz"
      },
      "outputs": [],
      "source": [
        "a = [1,2,3]\n",
        "b = [1,2,3]\n",
        "\n",
        "a==b"
      ]
    },
    {
      "cell_type": "markdown",
      "metadata": {
        "id": "0D6-rah5JPLz"
      },
      "source": [
        "##### Indinces negativos\n",
        "Python nos permite acceder a los elementos de la lista utilizando índices negativos, el significado de esto es empezar a contar del último elemento al primero, esto significa que el índice -1 hace referencia al último elemento ,-2 hace referencia al penúltimo y así sucesivamente hasta el negativo del tamaño de la lista , es decir:\n",
        "\n",
        "-len(< lista >)\n",
        "\n",
        "Podemos ver entonces que los indices de una lista se encuentran en el intervalo\n",
        "\n",
        "[-1,-len(< lista > )]\n",
        "\n",
        "<img src=\"https://qph.fs.quoracdn.net/main-qimg-a380b1bc159589df5e0b9842e5b56b6d\">"
      ]
    },
    {
      "cell_type": "markdown",
      "metadata": {
        "id": "fsHHmCmcJPLz"
      },
      "source": [
        "**Ejercicio:** Crea una lista llamada `nucleotidos` con los nombres de los cuatro base nitrogenada del ADN"
      ]
    },
    {
      "cell_type": "code",
      "execution_count": null,
      "metadata": {
        "id": "cu2Nd_7iJPLz"
      },
      "outputs": [],
      "source": [
        "nucleotidos = [\"adenina\", \"timina\",\"guanina\", \"citosina\"]\n",
        "\n",
        "print(nucleotidos)"
      ]
    },
    {
      "cell_type": "markdown",
      "metadata": {
        "id": "m9jLWADaJPLz"
      },
      "source": [
        "**Ejercicio:** en la lista anterior usando el indice\n",
        "- imprime la \"timina\"\n",
        "- el primer elemento de la lista\n",
        "- el ultimo elemento de la lista usando indices negativos"
      ]
    },
    {
      "cell_type": "code",
      "execution_count": null,
      "metadata": {
        "id": "siYx1uRFJPL0"
      },
      "outputs": [],
      "source": [
        "print(nucleotidos[1])\n",
        "print(nucleotidos[0])\n",
        "print(nucleotidos[-1])"
      ]
    },
    {
      "cell_type": "markdown",
      "metadata": {
        "id": "PM_d7Wo6VR23"
      },
      "source": [
        "#### Concatenar multiples listas\n",
        "\n",
        "En muchos casos, podemos tener 2 o mas listas las cuales nos interesa unificar en una sola lista , esto lo logramos a traves de una \"concatenacion de listas\" que podemos lograr usando el operador **+** ,por ejemplo:"
      ]
    },
    {
      "cell_type": "code",
      "execution_count": null,
      "metadata": {
        "id": "ZPovL-U9JPL0"
      },
      "outputs": [],
      "source": [
        "nucleotidos + [\"a\", \"c\"]"
      ]
    },
    {
      "cell_type": "code",
      "execution_count": null,
      "metadata": {
        "id": "uLlnPRVZJPL0"
      },
      "outputs": [],
      "source": [
        "u = [1,4.0,'a']\n",
        "v = [3.14,2.71,42,u]\n",
        "\n",
        "print(len(u))\n",
        "print(len(v))"
      ]
    },
    {
      "cell_type": "code",
      "execution_count": null,
      "metadata": {
        "id": "xBJK0ArrpV0c"
      },
      "outputs": [],
      "source": [
        "print(u)\n",
        "print(v)"
      ]
    },
    {
      "cell_type": "code",
      "execution_count": null,
      "metadata": {
        "id": "yEfbZjVpVR23",
        "tags": []
      },
      "outputs": [],
      "source": [
        "w = u + v\n",
        "\n",
        "print(w)"
      ]
    },
    {
      "cell_type": "markdown",
      "metadata": {
        "id": "4srQUoiXVR25",
        "tags": []
      },
      "source": [
        "#### Agregar nuevos elementos al final de una lista\n",
        "\n",
        "Si necesitamos agregar nuevos elementos a una lista , podemos usar la funcion append(< nuevo elemento> ) aplicada sobre la lista, esto  agrega el nuevo contenido al final de la lista."
      ]
    },
    {
      "cell_type": "code",
      "execution_count": null,
      "metadata": {
        "id": "3BjVD90RJPL0"
      },
      "outputs": [],
      "source": []
    },
    {
      "cell_type": "code",
      "execution_count": null,
      "metadata": {
        "id": "69BqDRLoVR26",
        "tags": []
      },
      "outputs": [],
      "source": [
        "a = [1,2,3,4]\n",
        "\n",
        "a.append('test')\n",
        "a.append(5)\n",
        "a.append(6)\n",
        "\n",
        "\n",
        "print(a)"
      ]
    },
    {
      "cell_type": "markdown",
      "metadata": {
        "id": "1gz2bDXRKyiZ",
        "outputId": "a83406f5-e0f3-4816-d9de-714c00f957de"
      },
      "source": [
        "### Accesar porciones/rebanadas de la lista a traves de \"slicing\"\n",
        "\n",
        "En muchos casos nos interesa acceder no a elementos individuales de la lista, si no a porciones de esta, los siguientes ejemplos nos muestran el razonamiento a usar para determinar si se necesita \"slicing\" para particionar una lista:\n",
        "\n",
        "* Se necesitan los primeros 5 elementos de una lista\n",
        "* Se necesitan los ultimos 3 elementos de una lista\n",
        "* Se necesita cambiar del segundo al cuarto elemento de una lista.\n",
        "\n",
        "En todos estos casos accedemos porciones, o rebanadas de la lista original en lugar de elementos individuales.\n",
        "\n",
        "La sintaxis para hacer esto es muy parecida a la usada para acceder elementos individuales, pero agregamos ahora el operador **\":\"** y lo usamos de la siguiente forma:\n",
        "\n",
        "< lista >[< inicio >: < fin >]\n",
        "\n",
        "donde:\n",
        "* < lista > : la lista original de la que deseamos acceder una sub-porcion\n",
        "* < inicio > : la posicion del inicio de la rebanada a obtener (inclusivo)\n",
        "* < fin > : la posicion final de la rebanada a obtener (exclusivo)\n",
        "\n",
        "Inicio y fin pueden ser cualquier expresion valida cuyo resultado sea un entero.\n",
        "\n",
        "\n",
        "\n",
        "Por ejemplo:"
      ]
    },
    {
      "cell_type": "code",
      "execution_count": null,
      "metadata": {
        "id": "XxxaX8DzJPL1"
      },
      "outputs": [],
      "source": [
        "lista1 = [\"hola\",\"mundo\",\"desde\",\"el\",\"lenguaje\",\"python\"]\n",
        "\n",
        "lista1[0:3] #ya que \"fin\" es exclusivo el resultado contiene hasta el elemento previo a este"
      ]
    },
    {
      "cell_type": "code",
      "execution_count": null,
      "metadata": {
        "id": "o03OjrHmJPL1"
      },
      "outputs": [],
      "source": [
        "lista1[-3:-1]"
      ]
    },
    {
      "cell_type": "code",
      "execution_count": null,
      "metadata": {
        "id": "JZs7xJ-FJPL1"
      },
      "outputs": [],
      "source": [
        "lista1[:]"
      ]
    },
    {
      "cell_type": "markdown",
      "metadata": {
        "id": "UMvcH-arJPL1"
      },
      "source": [
        "Agengando mas complejidad hay un parametro opcional que es **step**\n",
        "\n",
        "```\n",
        "< lista >[< inicio >: < fin >: <step>]\n",
        "```\n",
        "\n",
        "start: Índice de inicio del rango (inclusive).\n",
        "stop: Índice de fin del rango (exclusivo).\n",
        "step: Paso o incremento entre los índices (opcional, por defecto es 1)."
      ]
    },
    {
      "cell_type": "code",
      "execution_count": null,
      "metadata": {
        "id": "Ig90P2CoJPL1"
      },
      "outputs": [],
      "source": [
        "lista1[0:3:2]"
      ]
    },
    {
      "cell_type": "markdown",
      "metadata": {
        "id": "1xlMCiyQJPL1"
      },
      "source": [
        "Se puede revertir una lista solo con **slicing** ????"
      ]
    },
    {
      "cell_type": "code",
      "execution_count": null,
      "metadata": {
        "id": "3RJsOw94JPL2"
      },
      "outputs": [],
      "source": [
        "lista1[::-1]"
      ]
    },
    {
      "cell_type": "code",
      "execution_count": null,
      "metadata": {
        "id": "Aa0LFQg-JPL2"
      },
      "outputs": [],
      "source": [
        "variable = \"adenina2\"\n",
        "\n",
        "variable[:-1]"
      ]
    },
    {
      "cell_type": "code",
      "execution_count": null,
      "metadata": {
        "id": "c6ZeN7zGJPL2"
      },
      "outputs": [],
      "source": [
        "lista = []\n",
        "print(lista)"
      ]
    },
    {
      "cell_type": "code",
      "execution_count": null,
      "metadata": {
        "id": "XG3XEYdAJPL2"
      },
      "outputs": [],
      "source": [
        "lista.append(1)\n",
        "print(lista)"
      ]
    },
    {
      "cell_type": "markdown",
      "metadata": {
        "id": "raOMby8_JPL2"
      },
      "source": [
        "## Diccionarios"
      ]
    },
    {
      "cell_type": "markdown",
      "metadata": {
        "tags": [],
        "id": "qXdDAeERJPL2"
      },
      "source": [
        "Antes de hablar de diccionarios veamos algunos de los nombres con los que son conocidos en otros lenguajes:\n",
        "\n",
        "* tabla hash\n",
        "* mapas\n",
        "* hash-maps\n",
        "\n",
        "Un diccionario es una  colección(al contrario de las listas y tuplas) NO ORDENADA de objetos, ya que es una colección no ordenada , no podemos acceder a sus elementos según su posición, en lugar de esto lo hacemos usando una \"llave\" que identifica a cada elemento. Esta llave puede ser cualquier objeto INMUTABLE pero el caso más común es que sean strings.\n",
        "\n",
        "Por lo tanto un diccionario \"mapea\" una llave a un valor, esto es conocido en programación como estructuras \"key-value\".\n",
        "\n",
        "Aunque la llave está limitada a objetos inmutables (como strings o tuplas), el valor almacenado puede ser cualquier objeto, por lo tanto es posible almacenar estructuras complejas,por ejemplo diccionarios de listas:\n",
        "\n",
        "<img src=\"https://upload.wikimedia.org/wikipedia/commons/5/5b/KeyValue.PNG\">\n",
        "\n",
        "<img src=\"https://i.stack.imgur.com/nzc2C.png\">\n",
        "\n",
        "Esta es una de las estructuras de datos mas populares debido a su flexibilidad y gran eficiencia tanto en Python como en otros lenguajes.\n",
        "\n",
        "Asi como creamos listas con [] y tuplas con () , creamos los diccionarios con {}(o con la funcion dict) usando la sintaxis\n",
        "\n",
        "{llave1:valor1,llave2:valor2,...,llaven:valorn}\n",
        "\n",
        "Para obtener un objeto dada su llave ,podemos usar:\n",
        "```\n",
        "\n",
        "diccionario[llave]\n",
        "```\n",
        "\n",
        "o\n",
        "```\n",
        "\n",
        "diccionario.get(llave)\n",
        "```"
      ]
    },
    {
      "cell_type": "code",
      "execution_count": null,
      "metadata": {
        "id": "MrMkdo1TJPL2"
      },
      "outputs": [],
      "source": [
        "curso = {\n",
        "    \"nombre\" : \"ECFM Reduccion de datos\",\n",
        "    \"total_alumnos\": 10,\n",
        "    \"nombres\": [\"Ingrid\", \"Alexandro\", \"alfredo\"]\n",
        "}"
      ]
    },
    {
      "cell_type": "code",
      "execution_count": null,
      "metadata": {
        "id": "49WfcvVXJPL2"
      },
      "outputs": [],
      "source": [
        "print(curso)"
      ]
    },
    {
      "cell_type": "code",
      "execution_count": null,
      "metadata": {
        "id": "JzVvldYZJPL2"
      },
      "outputs": [],
      "source": [
        "curso[\"nombres\"]"
      ]
    },
    {
      "cell_type": "code",
      "execution_count": null,
      "metadata": {
        "id": "vhe9wGkuJPL2"
      },
      "outputs": [],
      "source": [
        "curso['nombres'][1]"
      ]
    },
    {
      "cell_type": "code",
      "execution_count": null,
      "metadata": {
        "id": "trmvdr_YJPL2"
      },
      "outputs": [],
      "source": [
        "print(curso['nombre'])"
      ]
    },
    {
      "cell_type": "code",
      "execution_count": null,
      "metadata": {
        "id": "PG_q0YcuJPL3"
      },
      "outputs": [],
      "source": [
        "curso['nombre']"
      ]
    },
    {
      "cell_type": "code",
      "execution_count": null,
      "metadata": {
        "id": "Hos6VUrHJPL3"
      },
      "outputs": [],
      "source": [
        "curso.get('nombredfasd')"
      ]
    },
    {
      "cell_type": "code",
      "execution_count": null,
      "metadata": {
        "id": "TqSwG9RDJPL3"
      },
      "outputs": [],
      "source": [
        "diccionario_vacio = {}\n",
        "\n",
        "print(diccionario_vacio)\n",
        "print(type(diccionario_vacio))"
      ]
    },
    {
      "cell_type": "code",
      "execution_count": null,
      "metadata": {
        "id": "NkZr1CgaJPL3"
      },
      "outputs": [],
      "source": [
        "diccionario_vacio[\"llave\"] = \"el valor de la llave\""
      ]
    },
    {
      "cell_type": "code",
      "execution_count": null,
      "metadata": {
        "id": "LbYhqrtjJPL3"
      },
      "outputs": [],
      "source": [
        "print(diccionario_vacio)\n",
        "diccionario_vacio['llave']"
      ]
    },
    {
      "cell_type": "markdown",
      "metadata": {
        "id": "X_XcLnWYJPL3"
      },
      "source": [
        "Podemos utilizar corchetes o get para obtener el valor de una llave.\n",
        "\n",
        "Una de las diferencias entre usar get o corchetes para obtener el valor de un diccionario, es que \"get\" no resulta en error si la llave no existe:"
      ]
    },
    {
      "cell_type": "code",
      "execution_count": null,
      "metadata": {
        "id": "dfiAu_DxJPL3"
      },
      "outputs": [],
      "source": [
        "digitos = {\"uno\":1,\n",
        "           \"dos\":2,\n",
        "           \"tres\":3,\n",
        "           \"lista\":[1,2,3,4]}\n",
        "\n",
        "print(digitos[\"dos\"])\n",
        "print(digitos.get(\"tres\"))\n",
        "print(digitos.get(\"test\"))"
      ]
    },
    {
      "cell_type": "markdown",
      "metadata": {
        "id": "hTIiRW-8JPL3"
      },
      "source": [
        "Podemos agregar nuevos elementos a un diccionario creado de manera similar a como lo hacemos con listas:"
      ]
    },
    {
      "cell_type": "code",
      "execution_count": null,
      "metadata": {
        "id": "Una8_yzmJPL3"
      },
      "outputs": [],
      "source": [
        "digitos[\"cuatro\"] = 4\n",
        "\n",
        "print(digitos[\"cuatro\"])"
      ]
    },
    {
      "cell_type": "code",
      "execution_count": null,
      "metadata": {
        "id": "dlLeX3cwJPL3"
      },
      "outputs": [],
      "source": [
        "print(digitos)"
      ]
    },
    {
      "cell_type": "markdown",
      "metadata": {
        "id": "DkJqnr96JPL3"
      },
      "source": [
        "**Ejercicio:** Crea una diccionario llamada `nucleotidos_map` donde la llave es la abreciación y el valor el nombre completo, ejemplo:\n",
        "```python\n",
        "nucleotidos_map['a']\n",
        "```\n",
        "retorna\n",
        "```\n",
        "Adenina\n",
        "```\n",
        "\n",
        "\"adenina\", \"timina\",\"guanina\", \"citosina\""
      ]
    },
    {
      "cell_type": "code",
      "execution_count": null,
      "metadata": {
        "id": "yblwt-N_JPL3"
      },
      "outputs": [],
      "source": [
        "nucleotidos_map = {\n",
        "    \"a\" : \"adenina\",\n",
        "    \"t\" : \"timina\",\n",
        "    \"g\" : \"guanina\", \"c\": \"citosina\"\n",
        "}"
      ]
    },
    {
      "cell_type": "code",
      "execution_count": null,
      "metadata": {
        "id": "OaFd_urqJPL3"
      },
      "outputs": [],
      "source": [
        "nucleotidos_map[\"t\"]"
      ]
    },
    {
      "cell_type": "code",
      "execution_count": null,
      "metadata": {
        "id": "UOCGYNNMJPL3"
      },
      "outputs": [],
      "source": [
        "nucleotidos_map[\"g\"]"
      ]
    },
    {
      "cell_type": "code",
      "execution_count": null,
      "metadata": {
        "id": "xOYOroDTJPL4"
      },
      "outputs": [],
      "source": [
        "nucleotidos_map[\"a\"]"
      ]
    },
    {
      "cell_type": "code",
      "execution_count": null,
      "metadata": {
        "id": "ZuZB5Pi0JPL4"
      },
      "outputs": [],
      "source": []
    },
    {
      "cell_type": "code",
      "execution_count": null,
      "metadata": {
        "id": "XnSMD9R5JPL4"
      },
      "outputs": [],
      "source": []
    },
    {
      "cell_type": "markdown",
      "metadata": {
        "id": "vR2ZBoleJPL4"
      },
      "source": [
        "## Condicionales\n",
        "\n",
        "En Python las estructuras o sentencias condicionales se basan en 3 palabras reservadas:\n",
        "* if\n",
        "* else\n",
        "* elif\n",
        "\n",
        "Usamos condicionales para alterar el flujo de un programa de manera que se ejecute o no cierta porción del programa(bloque de código)  en función de si se cumple o no cierta condición a ser evaluada.\n",
        "\n",
        "Las personas utilizamos condicionales constantemente tal vez sin darnos cuenta, por ejemplo:\n",
        "* si hace frio, entonces me pongo sueter\n",
        "* si hace frio Y esta lloviendo, entonces uso chumpa impermeable\n",
        "* si la cancion en la radio me gusta, subo el volumen en caso contrario lo bajo.\n",
        "\n",
        "De la misma manera los programas pueden \"tomar decisiones\" basados en alguna condición , por ejemplo un programa que verifica si un número \"x\" esta en el rango de 0 a 1:\n",
        "\n",
        "El programa utiliza la sentencia: **\"if\"** para evaluar una condición, si esta es verdadera ejecuta un bloque de código, en el caso contrario ejecuta otro.\n",
        "\n",
        "**Ejercicio** Experimenta cambiando el valor de la variable \"x\" y analizando el resultado obtenido."
      ]
    },
    {
      "cell_type": "code",
      "execution_count": null,
      "metadata": {
        "id": "GO86HA5B2D6k"
      },
      "outputs": [],
      "source": [
        "x = 600\n",
        "\n",
        "if 0 < x < 1: #True\n",
        "    print(\"x se encuentra entre 0 y 1\")\n",
        "    print(\"resultado verdadero\")\n",
        "elif 3< x < 5:\n",
        "    print(\"x se encuentra entre 3 y 5\")\n",
        "elif 8< x < 40:\n",
        "    print(\"x se encuentra entre 8 y 40\")\n",
        "elif 50< x < 200:\n",
        "    print(\"x se encuentra entre 50 y 200\")\n",
        "    if 100< x < 200:\n",
        "        print(\">>>>> x se encuentra entre 100 y 200\")\n",
        "    else:\n",
        "        print(\"es menor a 100\")\n",
        "else: # False\n",
        "    print(\"x no se encuentra en el rango de 0 a 1\")\n",
        "    print(\"resultado falso\")"
      ]
    },
    {
      "cell_type": "markdown",
      "metadata": {
        "id": "5cU99atk2D6k"
      },
      "source": [
        "Pudimos haber escrito unicamente la sentencia \"if\" , su condición y el bloque de código asociado sin necesidad de usar \"else\" si en caso nuestro programa no necesita realizar ninguna acción cuando la condición no se cumple."
      ]
    },
    {
      "cell_type": "code",
      "execution_count": null,
      "metadata": {
        "id": "n_LJdg2x2D6l"
      },
      "outputs": [],
      "source": [
        "x = 100\n",
        "\n",
        "if   0 < x < 1:\n",
        "    print(\"x se encuentra entre 0 y 1\")\n",
        "\n",
        "print(x)"
      ]
    },
    {
      "cell_type": "markdown",
      "metadata": {
        "id": "QAbDaO9T2D6l"
      },
      "source": [
        "Aun que en estos ejemplos sencillos los bloques de código solo tenian una sentencia, pudimos haber utilizando tantas como fuera necesario  . De manera general la sintáxis es la siguiente:\n",
        "\n",
        "< bloque antes >\n",
        "\n",
        "if < expresion booleana >:\n",
        "\n",
        "    < bloque 1>\n",
        "else:\n",
        "\n",
        "    < bloque 2 >\n",
        "    \n",
        "< bloque despues >\n",
        "\n",
        "\n",
        "En este caso:\n",
        "* bloque 1: es el conjunto de sentencias a ejecutar si la condición del \"if\" es True\n",
        "* bloque 2 es el conjunto de sentencias a ejecutar si la condición del \"if\" es False\n",
        "* bloque antes: es una referencia a código que puede estar antes del if, y que no es parte de este, por ejemplo x = 0.47 en el ejemplo\n",
        "* bloque despues: es una referencia a código que puede estar despues del if y que se ejecutara posteriormente a este independiente de cual de los 2 casos (True o False) se de.\n",
        "\n",
        "**Nota con < expresion booleana >** : la parte del if que colocamos como < expresion booleana > es cualquier expresion valida cuyo resultado sea un booleano(True o False) ,esto significa que podemos  usar en esta parte cualquier expresion relacional, logica , variables o combinaciones de estas cuyo resultado sea booleanom, los bloques de código asociados pueden ser cualquier conjunto de sentencias válidas incluidas otras condicionales.\n",
        "\n",
        "### \"If-else-if ladders\" con elif\n",
        "\n",
        "Hasta el momento solo hemos visto ejemplos con un máximo de 2 posibles alternativas en la ejecución condicional:\n",
        "\n",
        "* Cuando solo nos interesa evaluar una condición y hacer algo si se cumple, usamos \"if\"\n",
        "* Cuando nos interesa evaluar una condición y hacer una tarea \"A\" cuando esta se cumple, o bien una tarea \"B\" cuando no se cumple usamos if-else\n",
        "\n",
        "Pero en muchos programas es necesario realizar la evaluación de multiples condiciones  y ejecutar las acciones correspndientes a la condición que se evalua como \"verdadera\", esto es un escenario muy común en todo tipo de programas\n",
        "\n",
        "**Ejemplo**\n",
        "\n",
        "Pensemos en un programa de un banco con precencia en toda centroamérica , pero donde cada país tiene  distinta tasa de interés  para cuentas en dolares , para cierto monto de ahorro dado el programa debe calcular el nuevo monto del cliente luego de intereses acumulados tomando en cuenta el país de la cuenta."
      ]
    },
    {
      "cell_type": "code",
      "execution_count": null,
      "metadata": {
        "id": "Lznktvzy2D6m"
      },
      "outputs": [],
      "source": [
        "monto = 1000.00\n",
        "pais = \"H\"\n",
        "interes = 0.0\n",
        "\n",
        "if pais == \"GT\":\n",
        "    interes = 0.1\n",
        "elif pais == \"ES\": #else if\n",
        "    interes = 0.15\n",
        "elif pais == \"HN\":\n",
        "    interes = 0.05\n",
        "elif pais == \"NI\":\n",
        "    interes = 0.2\n",
        "elif pais == \"CR\":\n",
        "    interes = 0.07\n",
        "elif pais == \"PA\":\n",
        "    interes = 0.08\n",
        "else:\n",
        "    print(\"Alerta: Pais no valido :\",pais)\n",
        "\n",
        "nuevo_monto = monto + (monto*interes)\n",
        "print(\"Monto con intereses:\",nuevo_monto)"
      ]
    },
    {
      "cell_type": "code",
      "execution_count": null,
      "metadata": {
        "id": "zmf9a_7n_cWh"
      },
      "outputs": [],
      "source": [
        "monto = 1000.00\n",
        "pais = \"US\"\n",
        "interes = 0.0\n",
        "\n",
        "if pais == \"GT\":\n",
        "    interes = 0.1\n",
        "elif pais == \"ES\": #else if\n",
        "    interes = 0.15\n",
        "elif pais == \"HN\":\n",
        "    interes = 0.05\n",
        "elif pais == \"NI\":\n",
        "    interes = 0.2\n",
        "elif pais == \"CR\":\n",
        "    interes = 0.07\n",
        "elif pais == \"PA\":\n",
        "    interes = 0.08\n",
        "else:\n",
        "    print(\"Alerta: Pais no valido :\",pais)\n",
        "\n",
        "monto += (monto*interes)\n",
        "print(\"Monto con intereses:\",monto)"
      ]
    },
    {
      "cell_type": "markdown",
      "metadata": {
        "id": "92iqJHZ12D6n"
      },
      "source": [
        "**Ejemplo**\n",
        "\n",
        "Otro ejemplo es un programa sencillo que valida el rango de edad de un usuario para determinar que tipo de promocion ofrecerle, basado en :\n",
        "* de 0 a 15 años: promocion infantil\n",
        "* de 16 a 40 años: promocion intermedia\n",
        "* de 40 años en adelante: promocion avanzada\n",
        "\n",
        "Si la edad es negativa, mostrar una alerta\n",
        "\n",
        "**Nota** Este programa tiene intencionalmente un error de programación(bug) , para ciertos valores de \"edad\" el programa no funciona correctamente aún cuando lo hace bien para la mayoría de casos, como ejercicio identifiquemos el bug y propongamos soluciones."
      ]
    },
    {
      "cell_type": "code",
      "execution_count": null,
      "metadata": {
        "id": "62NxEtJ22D6n"
      },
      "outputs": [],
      "source": [
        "edad = 40.5\n",
        "\n",
        "if edad >= 0.0 and edad <= 15.99:\n",
        "    print(\"Promocion infantil\")\n",
        "elif edad >= 16 and edad <= 40:\n",
        "    print(\"Promocion intermedia\")\n",
        "elif edad >= 41:\n",
        "    print(\"Promocion avanzada\")\n",
        "elif edad < 0:\n",
        "    print(\"Alerta: edad no valida\")\n",
        "else:\n",
        "    print(\"no definido\")"
      ]
    },
    {
      "cell_type": "code",
      "execution_count": null,
      "metadata": {
        "id": "yRgXhRxqXHen"
      },
      "outputs": [],
      "source": [
        "edad = 40.5\n",
        "\n",
        "if edad >= 0.0 and edad <= 15.99:\n",
        "    print(\"Promocion infantil\")\n",
        "elif edad >= 16 and edad <= 40:\n",
        "    print(\"Promocion intermedia\")\n",
        "elif edad >= 41:\n",
        "    print(\"Promocion avanzada\")\n",
        "elif edad < 0:\n",
        "    print(\"Alerta: edad no valida\")\n",
        "else:\n",
        "    print(\"no definido\")"
      ]
    },
    {
      "cell_type": "code",
      "execution_count": null,
      "metadata": {
        "id": "-LY9tVQoJPL5"
      },
      "outputs": [],
      "source": []
    },
    {
      "cell_type": "markdown",
      "metadata": {
        "id": "tGGa5cIIJPL5"
      },
      "source": [
        "## Ciclos\n",
        "\n",
        "Ya hemos visto \"condicionales\" que nos permiten alterar el flujo de un programa basado en condiciones que pueden o no cumplirse, la otra manera de alterar el flujo de un programa es a través de estructuras cíclicas que nos permiten ejecutar iterativamente un bloque de código. Por ejemplo:\n",
        "Muchas veces necesitamos ejecutar la misma operación sobre una colección de objetos\n",
        "En computación científica muchos métodos numéricos se basan en la ejecución iterativa de cierto proceso, por ejemplo:\n",
        "Una simulación de Monte Carlo consiste en realizar un muestreo/sampleo aleatoriamente muchas veces y luego analizar el resultado esperado en cierto proceso.\n",
        "Encontrar un patrón en una cadena de ADN\n",
        "    \n",
        "En Python los ciclos se basan en 2 sentencias:\n",
        "* **while**: el bloque de código asociado al while se ejecuta siempre y cuando una condición dada sea verdadera , esta condición es muy parecida a la vista en la sección de condicionales (if) y puede ser cualquier expresión booleana válida(expresiones relacionales, lógicas y valores booleanos)\n",
        "* **for**: a diferencia de otros lenguajes en donde el for también esta basado en una condición dada, en Python el for es utilizado para recorrer todos los elementos de una colección de objetos  uno a uno(o bien un número de veces N predefinido), por lo cual profundizaremos en el \"for\" hasta que hayamos visto colecciones,contenedores y estructuras de datos.\n",
        "\n",
        "Con while y for tenemos la base para operaciones cíclicas en Python , pero existen otras sentencias que pueden llegar a resultar útiles en algunos casos y que también se encuentran en muchos otros lenguajes de programación:\n",
        "\n",
        "* **break** : nos permite salir por completo de un ciclo, aplica tanto para \"for\" como para \"while\" y provoca que la ejecución del ciclo se \"rompa\"  y el programa continue su ejecución en la instrucción que sigue al ciclo.\n",
        "* **continue**: nos permite saltarnos una iteración del ciclo ignorando para esa iteración el código restante del ciclo pero sin salirse completamente y empezando la próxima iteracion inmediatamente,aplica tanto para \"for\" como para \"while\".\n",
        "\n",
        "### while\n",
        "\n",
        "Muchos libros y tutoriales de programación empiezan comúnmente con \"for\", pero debido a que en Python for esta orientado a recorrer colecciones de objetos y aún no hemos visto colecciones, empezaremos con \"while\" que tienen una sintaxis parecida a \"if\".\n",
        "\n",
        "Los ciclos while son usados para repetir secciones de código basado en el valor de cierta condición , es decir, que los usaremos para ejecutar repetidamente bloques de código \"MIENTRAS\" que cierta condición sea verdadera.\n",
        "\n",
        "La sintáxis de while de manera general tiene la forma:\n",
        "```\n",
        "< bloque antes >\n",
        "\n",
        "while < expresion booleana >:\n",
        "\n",
        "    < bloque 1>\n",
        "    \n",
        "< bloque despues >\n",
        "```\n",
        "\n",
        "Donde:\n",
        "* < bloque antes > : hace referencia a cualquier sentencia de código antes de el ciclo while\n",
        "* < expresion booleana > : es cualquier expresión valida cuyo resultado sea un valor booleano (True o False)\n",
        "* < bloque 1 > : es cualquier bloque de código(1 o mas sentencias) que queremos ejecutar repetidamente MIENTRAS la condición sea True\n",
        "* < bloque despues >: hace referencia a el código a ejecutarse luego de que el ciclo while haya terminado de ejecutarse.\n"
      ]
    },
    {
      "cell_type": "code",
      "execution_count": null,
      "metadata": {
        "id": "tEtmAxIOJPL5"
      },
      "outputs": [],
      "source": []
    },
    {
      "cell_type": "markdown",
      "metadata": {
        "id": "kuNNoIRc2D6t"
      },
      "source": [
        "**Ejemplo**: Un programa debe escribir (print) en pantalla los números del 1 a N ,donde N será el limite máximo a mostrar."
      ]
    },
    {
      "cell_type": "code",
      "execution_count": null,
      "metadata": {
        "id": "Dkb3GpvaJPL5"
      },
      "outputs": [],
      "source": [
        "n = 3\n",
        "#n = n +1\n",
        "n+=1\n",
        "print(n)"
      ]
    },
    {
      "cell_type": "code",
      "execution_count": null,
      "metadata": {
        "id": "UvQhjdPw2D6x"
      },
      "outputs": [],
      "source": [
        "numero = 1\n",
        "N = 10\n",
        "\n",
        "print(numero)\n",
        "print(\"empieza el ciclo while...\")\n",
        "while numero <= N:\n",
        "    print(numero)\n",
        "    numero+=2 #equivalente a numero = numero +1\n",
        "\n",
        "print(\"luego de while\")\n",
        "print(numero)"
      ]
    },
    {
      "cell_type": "markdown",
      "metadata": {
        "id": "IaRm-42x2D6z"
      },
      "source": [
        "**Ejemplo** Un programa debe escribir (print) en pantalla los números pares del 1 a N ,donde N será el limite máximo a mostrar."
      ]
    },
    {
      "cell_type": "code",
      "execution_count": null,
      "metadata": {
        "id": "rzh5FjTg2D6z"
      },
      "outputs": [],
      "source": [
        "numero = 2\n",
        "N = 10\n",
        "\n",
        "while numero <= N:\n",
        "    print(numero)\n",
        "    numero+=2 #equivalente a numero = numero +2"
      ]
    },
    {
      "cell_type": "markdown",
      "metadata": {
        "id": "1H8TgL7A2D60"
      },
      "source": [
        "**Nota** Existen muchas formas de lograr el mismo resultado , pero algunas son mas eficientes y/o fáciles de entender(consideradas mejores que  otras)"
      ]
    },
    {
      "cell_type": "code",
      "execution_count": null,
      "metadata": {
        "id": "GoznbNN42D60"
      },
      "outputs": [],
      "source": [
        "numero = 2\n",
        "N = 10\n",
        "repetir = True\n",
        "\n",
        "while repetir:\n",
        "    if numero > N :\n",
        "        repetir = False\n",
        "    else:\n",
        "        print(numero)\n",
        "\n",
        "    numero = numero +2\n"
      ]
    },
    {
      "cell_type": "markdown",
      "metadata": {
        "id": "1ES27OGQ2D60"
      },
      "source": [
        "**Ejemplo** Una simulacion de monte carlo consiste en el sampleo/muestreo para dar valor a cierta variable perteneciente a un modelo para luego analizar el resultado o impacto que esta variable tiene en el modelo.\n",
        "\n",
        "Por ejemplo, necesitamos analizar  cual sera el valor maximo esperado de cierta variable \"y\" que es función de otra variable \"x\" a través del modelo :\n",
        "\n",
        "$$y = 2x + 3$$\n",
        "\n",
        "Bajo un proceso ya realizado se sabe que x es una variable aleatoria que se comporta de manera normal(gausianna) con una media de 5 y desviación estandar de 2"
      ]
    },
    {
      "cell_type": "markdown",
      "metadata": {
        "id": "9Yn-aXjNtkja"
      },
      "source": [
        "import sys !conda install --yes --prefix {sys.prefix} matplotlib"
      ]
    },
    {
      "cell_type": "code",
      "execution_count": null,
      "metadata": {
        "id": "d50_IMly2D60"
      },
      "outputs": [],
      "source": [
        "from matplotlib import pyplot as plt #visualizar datos\n",
        "import numpy as np #numeric python"
      ]
    },
    {
      "cell_type": "code",
      "execution_count": null,
      "metadata": {
        "id": "wtoFi6An2D61"
      },
      "outputs": [],
      "source": [
        "data = np.random.normal(size=1000000,loc=5,scale=2)\n",
        "\n",
        "plt.hist(data,bins=20)\n",
        "plt.show()"
      ]
    },
    {
      "cell_type": "code",
      "execution_count": null,
      "metadata": {
        "id": "eCTf69zt2D61"
      },
      "outputs": [],
      "source": [
        "import random\n",
        "\n",
        "SIMULACIONES = 100\n",
        "iteracion = 1\n",
        "y_maximo = float(\"-inf\")\n",
        "y_minimo = float(\"inf\")\n",
        "ys_simulados = []\n",
        "\n",
        "while iteracion <= SIMULACIONES:\n",
        "    x_simulado = random.gauss(5,2) # sampleo/muestreo de la variable x\n",
        "    y = 2*x_simulado + 3 #aplicar el modelo a la variable \"simulada\"\n",
        "    ys_simulados.append(y)\n",
        "    y_maximo = max(y_maximo,y) #en cada iteracion determinar el maximo encontrado\n",
        "\n",
        "    iteracion +=1\n",
        "\n",
        "print(\"El valor maximo de y es \",y_maximo)"
      ]
    },
    {
      "cell_type": "markdown",
      "metadata": {
        "id": "bsrWbaEuJPL6"
      },
      "source": [
        "### For\n",
        "\n",
        "Uno de los ciclos mas conocidos y comunes entre los lenguajes de programacion , en C y heredados también utiliza una condicion booleana como criterio para definir la cantidad de iteraciones a realizar, en Python no se utiliza una condición booleana si no que itera sobre una colección de elementos.\n",
        "\n",
        "\n",
        "Su sintaxis tiene la forma general\n",
        "```\n",
        "< bloque antes >\n",
        "\n",
        "for < iterador > in < iterable >:\n",
        "\n",
        "    < bloque 1>\n",
        "    \n",
        "< bloque despues >\n",
        "```\n",
        "\n",
        "Donde:\n",
        "* < bloque antes > : hace referencia a cualquier sentencia de código antes de el ciclo for\n",
        "* < iterable > : cualquier coleccion de objetos (llamados tambien contenedores en Python)\n",
        "* < iterador > : es un objeto que sera utilizado para acceder a los elementos de la coleccion de objetos uno a uno, ya sea el objeto en si , un valor numerico indicando su posicion en la coleccion o ambos.\n",
        "* < bloque 1 > : es cualquier bloque de código(1 o mas sentencias) que queremos ejecutar repetidamente una vez por cada elemento de la coleccion(iterable) y puede o no incluir operaciones sobre el objeto (iterador)\n",
        "* < bloque despues >: hace referencia a el código a ejecutarse luego de que el ciclo while haya terminado de ejecutarse.\n",
        "\n",
        "Aun no hemos visto colecciones por lo cual usaremos ejemplo unicamente del tipo mas sencillo: **listas**\n",
        "\n",
        "**Ejemplo** En el siguiente ejemplo recorremos(iteramos) una lista de carnets y simplemente los imprimimos con \"print\""
      ]
    },
    {
      "cell_type": "code",
      "execution_count": null,
      "metadata": {
        "id": "4NNRDt6zJPL6"
      },
      "outputs": [],
      "source": [
        "carnets = [123,124,125,126]\n",
        "\n",
        "for carnet in carnets: #foreach\n",
        "    print(carnet)"
      ]
    },
    {
      "cell_type": "markdown",
      "metadata": {
        "id": "VtssWJIv2D65"
      },
      "source": [
        "**nota** el \"iterador\" sobreescribe cualquier variable previa con el mismo nombre\n"
      ]
    },
    {
      "cell_type": "code",
      "execution_count": null,
      "metadata": {
        "id": "8JGuxosy2D66"
      },
      "outputs": [],
      "source": [
        "carnets = [123,124,125,126]\n",
        "carnet = \"5555\"\n",
        "\n",
        "for carnet in carnets:\n",
        "    print(carnet)\n",
        "\n",
        "print(carnet)"
      ]
    },
    {
      "cell_type": "markdown",
      "metadata": {
        "id": "s_QVcW1y2D66"
      },
      "source": [
        "**Ejemplo con strings** Los objetos de tipo string pueden ser un \"iterable\" donde cada caracter de la secuencia es un \"iterador\""
      ]
    },
    {
      "cell_type": "code",
      "execution_count": null,
      "metadata": {
        "id": "m-uJJ2d52D66"
      },
      "outputs": [],
      "source": [
        "for letra in \"Python\":\n",
        "    print(letra)\n"
      ]
    },
    {
      "cell_type": "markdown",
      "metadata": {
        "id": "QbSa9tnx2D66"
      },
      "source": [
        "#### break y continue\n",
        "\n",
        "Tambien podemos usar break y continue en \"for\" y su significado es el mismo:\n",
        "* break: salirse prematuramente del ciclo de manera definitiva\n",
        "* continue: salirse prematuramente de una sola iteracion del ciclo"
      ]
    },
    {
      "cell_type": "markdown",
      "metadata": {
        "id": "qMz_FJyz2D67"
      },
      "source": [
        "**ejemplo** usaremos break en un programa que busca en numero de usuario en una lista de usuarios registrados y muestra si el usuario fue encontrado o no, y cuantos usuarios ha revisado"
      ]
    },
    {
      "cell_type": "code",
      "execution_count": null,
      "metadata": {
        "id": "FbrHjeP12D68"
      },
      "outputs": [],
      "source": [
        "carnets = [123,124,125,126,1244,1265,\n",
        "           66511,12545,14578] #iterable\n",
        "buscado = 1244\n",
        "revisados = 0\n",
        "encontrado = False\n",
        "\n",
        "print(len(carnets))\n",
        "for carnet in carnets: #carnet es el iterador\n",
        "    #revisados+=1\n",
        "    revisados += 1\n",
        "    if buscado == carnet:\n",
        "        encontrado = True\n",
        "        break\n",
        "\n",
        "print(\"Encontrado:\", encontrado,\",revisados:\", revisados)"
      ]
    },
    {
      "cell_type": "markdown",
      "metadata": {
        "id": "nzzsSHIX2D69"
      },
      "source": [
        "**ejemplo** el siguiente programa \"itera\" sobre las letras de el string \"Python\" imprimiendolas una a una,pero utiliza \"continue\" para ignorar el codigo  en casos donde la letra es \"e\""
      ]
    },
    {
      "cell_type": "code",
      "execution_count": null,
      "metadata": {
        "id": "RpxYvvTCJPL7"
      },
      "outputs": [],
      "source": [
        "tmp = \"a\" + \"b\"\n",
        "tmp += \"x\"\n",
        "print(tmp)"
      ]
    },
    {
      "cell_type": "code",
      "execution_count": null,
      "metadata": {
        "id": "oua0ckh_2D6-"
      },
      "outputs": [],
      "source": [
        "frase = \"\"\n",
        "for letra in \"Python es un lenguaje de programacion\":\n",
        "\n",
        "    if letra == \"a\":\n",
        "        continue\n",
        "\n",
        "    frase += letra\n",
        "print(frase)"
      ]
    },
    {
      "cell_type": "code",
      "execution_count": null,
      "metadata": {
        "id": "9hXewEWsJPL7"
      },
      "outputs": [],
      "source": []
    },
    {
      "cell_type": "markdown",
      "metadata": {
        "id": "_f85dQCeJPL7"
      },
      "source": [
        "**Ejercicio**: cuenta cuantas `a` hay en la siguiente cadena `atcgaatgacat`"
      ]
    },
    {
      "cell_type": "code",
      "execution_count": null,
      "metadata": {
        "id": "McnRXIuCJPL7"
      },
      "outputs": [],
      "source": [
        "conteo_a = 0\n",
        "\n",
        "print(conteo_a)\n",
        "\n",
        "for base in 'atcgaatgacat':\n",
        "    ## tu codigo\n",
        "    if base == \"a\":\n",
        "        conteo_a+=1\n",
        "\n",
        "print(conteo_a)"
      ]
    },
    {
      "cell_type": "markdown",
      "metadata": {
        "id": "llbRt4XS2D6-"
      },
      "source": [
        "#### Función \"range\"\n",
        "\n",
        "En muchos casos es util generar un numero pre-definido de iteraciones, o iterar sobre una lista de valores numericos, para estos casos Python nos ofrece la funcion range() para generar de manera simple una lista de valores numericos sobre los cuales ejecutar un ciclo for.\n",
        "\n",
        "Aun que no hemos visto funciones, la funcion range es util estudiarla dentro del contexto del \"for\" ya que se usan  juntas muy comunmente."
      ]
    },
    {
      "cell_type": "code",
      "execution_count": null,
      "metadata": {
        "id": "WC8J4Nc12D6_"
      },
      "outputs": [],
      "source": [
        "for i in range(0,5): # for(i=0;i<5;i++)\n",
        "\n",
        "    print(i)\n"
      ]
    },
    {
      "cell_type": "markdown",
      "metadata": {
        "id": "219doqDH2D6_"
      },
      "source": [
        "De manera general range tiene la sintaxis:\n",
        "```\n",
        "range(< inicio >, < fin >,< incremento >)\n",
        "```\n",
        "donde:\n",
        "\n",
        "* < inicio >: valor inicial de la lista de numeros generada(inclusivo)\n",
        "* < fin > :  valor final de la lista de numeros generada(exclusivo)\n",
        "* < incremento > : de cuanto en cuanto aumenta la lista\n",
        "\n",
        "Esto genera una lista empezando en < inicio > ,el segundo elemento es < inicio > + < incremento >, el tercer elemento es < inicio > + 2*< incremento > y asi sucesivamente hasta llegar a fin (valores menores a el)"
      ]
    },
    {
      "cell_type": "code",
      "execution_count": null,
      "metadata": {
        "id": "ImGjRUpR2D6_"
      },
      "outputs": [],
      "source": [
        "\n",
        "for i in range(1,11,1):\n",
        "    print(i)"
      ]
    },
    {
      "cell_type": "code",
      "execution_count": null,
      "metadata": {
        "id": "5Vwgyvx92D7A"
      },
      "outputs": [],
      "source": [
        "for i in range(1,11,1):\n",
        "    print(i)"
      ]
    },
    {
      "cell_type": "code",
      "execution_count": null,
      "metadata": {
        "id": "344RuCAh2D7A"
      },
      "outputs": [],
      "source": [
        "for i in range(1,11,2):\n",
        "    print(i)"
      ]
    },
    {
      "cell_type": "code",
      "execution_count": null,
      "metadata": {
        "id": "JlYuYeF82D7A"
      },
      "outputs": [],
      "source": [
        "for i in range(2,11,2):\n",
        "    print(i)"
      ]
    },
    {
      "cell_type": "markdown",
      "metadata": {
        "id": "7kBEbhJ12D7B"
      },
      "source": [
        "Range tiene valores default para el inicio y el incremento, por lo cual si solo especificamos un parametro este sera el valor de fin, los valores default son:\n",
        "* inicio = 0\n",
        "* incremento = 1"
      ]
    },
    {
      "cell_type": "code",
      "execution_count": null,
      "metadata": {
        "id": "Y5e-7fw22D7B"
      },
      "outputs": [],
      "source": [
        "for i in range(0,5,1):\n",
        "    print(i)"
      ]
    },
    {
      "cell_type": "code",
      "execution_count": null,
      "metadata": {
        "id": "PUQxw5U6DLHo"
      },
      "outputs": [],
      "source": [
        "n = 10\n",
        "for i in range(n):\n",
        "    print(i)"
      ]
    },
    {
      "cell_type": "markdown",
      "metadata": {
        "id": "GhMILX3c2D7B"
      },
      "source": [
        "**Ejemplo**\n",
        "Se llama sucesión a un conjunto de números dados ordenadamente de modo que se\n",
        "puedan numerar: primero, segundo, tercero,....\n",
        "Los elementos de la sucesión se llaman términos y se suelen designar mediante una letra\n",
        "con los subíndices correspondientes a los lugares que ocupan en la sucesión: a1, a2, a3, ...\n",
        "Por ejemplo, son sucesiones las siguientes listas de números:\n",
        "1, 2, 3, 4, 5, ... 2, 4, 8, 16, 32, ... -3, 3, -3, 3, -3, ...\n",
        "En algunas ocasiones es posible expresar el término n-ésimo (término que ocupa el lugar n)\n",
        "en función de n. Este término se llama término general de la sucesión, y se simboliza con an.\n",
        "Por ejemplo, en la sucesión 1, 4, 9, 16, 25, ... cada término es el cuadrado del lugar que ocupa en\n",
        "la sucesión, con lo que el término general an = n².\n",
        "\n",
        "Usar range para mostrar los primeros 15 terminos de la sucesion:\n",
        "\n",
        "$$S_{n} = n^{2}$$\n",
        "\n",
        "imprimirlos termino por termino junto a su indice en la sucesion"
      ]
    },
    {
      "cell_type": "code",
      "execution_count": null,
      "metadata": {
        "id": "v5kySC_C2D7B"
      },
      "outputs": [],
      "source": [
        "for n in range(1,16,1):\n",
        "    print(n,n**2)"
      ]
    },
    {
      "cell_type": "code",
      "execution_count": null,
      "metadata": {
        "id": "GnNFdhTuJPL9"
      },
      "outputs": [],
      "source": []
    }
  ],
  "metadata": {
    "colab": {
      "collapsed_sections": [
        "zOXNFWT0pFnZ",
        "m9gUgfjbpFoO"
      ],
      "provenance": [],
      "include_colab_link": true
    },
    "kernelspec": {
      "display_name": "Python 3 (ipykernel)",
      "language": "python",
      "name": "python3"
    },
    "language_info": {
      "codemirror_mode": {
        "name": "ipython",
        "version": 3
      },
      "file_extension": ".py",
      "mimetype": "text/x-python",
      "name": "python",
      "nbconvert_exporter": "python",
      "pygments_lexer": "ipython3",
      "version": "3.10.16"
    }
  },
  "nbformat": 4,
  "nbformat_minor": 0
}